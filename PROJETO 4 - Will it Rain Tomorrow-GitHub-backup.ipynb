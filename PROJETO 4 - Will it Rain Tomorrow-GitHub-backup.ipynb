{
 "cells": [
  {
   "cell_type": "markdown",
   "metadata": {
    "ExecuteTime": {
     "end_time": "2021-05-10T01:35:48.031962Z",
     "start_time": "2021-05-10T01:35:48.023984Z"
    }
   },
   "source": [
    "# Libraries"
   ]
  },
  {
   "cell_type": "code",
   "execution_count": 1,
   "metadata": {
    "ExecuteTime": {
     "end_time": "2021-05-11T21:23:51.656212Z",
     "start_time": "2021-05-11T21:23:47.571128Z"
    }
   },
   "outputs": [],
   "source": [
    "#import modin.pandas as pd\n",
    "import warnings\n",
    "import pandas as pd\n",
    "import numpy as np\n",
    "import seaborn as sns\n",
    "import matplotlib.pyplot as plt\n",
    "import numpy as np\n",
    "from matplotlib import pyplot as plt\n",
    "from sklearn.utils import resample\n",
    "from pandas_profiling import ProfileReport\n",
    "#import pyforest\n",
    "from sklearn.preprocessing import LabelEncoder\n",
    "from lightgbm import LGBMClassifier\n",
    "from lightgbm import plot_importance\n",
    "from sklearn.model_selection import cross_val_score, KFold\n",
    "from sklearn.preprocessing import StandardScaler\n",
    "from pandas.plotting import scatter_matrix\n",
    "from sklearn.model_selection import train_test_split\n",
    "from sklearn.linear_model import LinearRegression\n",
    "from sklearn.tree import DecisionTreeRegressor\n",
    "from sklearn.ensemble import ExtraTreesRegressor\n",
    "from sklearn import metrics\n",
    "from sklearn.metrics import mean_squared_error\n",
    "from sklearn.metrics import roc_auc_score, plot_roc_curve\n",
    "from sklearn.metrics import precision_score, recall_score, f1_score\n",
    "#from lazypredict.Supervised import LazyRegressor\n",
    "pd.options.display.max_columns = 100\n",
    "#pd.set_option('display.max_columns', None)"
   ]
  },
  {
   "cell_type": "markdown",
   "metadata": {},
   "source": [
    "# Import, Clean, Merge your Key Table"
   ]
  },
  {
   "cell_type": "code",
   "execution_count": 3,
   "metadata": {
    "ExecuteTime": {
     "end_time": "2021-05-11T21:24:00.840742Z",
     "start_time": "2021-05-11T21:24:00.814480Z"
    }
   },
   "outputs": [
    {
     "ename": "FileNotFoundError",
     "evalue": "[Errno 2] File data_rain/rain_data_aus.csv does not exist: 'data_rain/rain_data_aus.csv'",
     "output_type": "error",
     "traceback": [
      "\u001b[1;31m---------------------------------------------------------------------------\u001b[0m",
      "\u001b[1;31mFileNotFoundError\u001b[0m                         Traceback (most recent call last)",
      "\u001b[1;32m<ipython-input-3-61f025dfd829>\u001b[0m in \u001b[0;36m<module>\u001b[1;34m\u001b[0m\n\u001b[0;32m      1\u001b[0m \u001b[1;31m#Import key_table\u001b[0m\u001b[1;33m\u001b[0m\u001b[1;33m\u001b[0m\u001b[1;33m\u001b[0m\u001b[0m\n\u001b[1;32m----> 2\u001b[1;33m \u001b[0mrain_aus\u001b[0m \u001b[1;33m=\u001b[0m \u001b[0mpd\u001b[0m\u001b[1;33m.\u001b[0m\u001b[0mread_csv\u001b[0m\u001b[1;33m(\u001b[0m\u001b[1;34m\"data_rain/rain_data_aus.csv\"\u001b[0m\u001b[1;33m)\u001b[0m\u001b[1;33m\u001b[0m\u001b[1;33m\u001b[0m\u001b[0m\n\u001b[0m\u001b[0;32m      3\u001b[0m \u001b[0mrain_aus\u001b[0m \u001b[1;33m=\u001b[0m \u001b[0mrain_aus\u001b[0m\u001b[1;33m.\u001b[0m\u001b[0mrename\u001b[0m\u001b[1;33m(\u001b[0m\u001b[0mcolumns\u001b[0m\u001b[1;33m=\u001b[0m\u001b[1;33m{\u001b[0m\u001b[1;34m\"amountOfRain\"\u001b[0m\u001b[1;33m:\u001b[0m \u001b[1;34m\"amntraintmrw\"\u001b[0m\u001b[1;33m}\u001b[0m\u001b[1;33m)\u001b[0m\u001b[1;33m\u001b[0m\u001b[1;33m\u001b[0m\u001b[0m\n\u001b[0;32m      4\u001b[0m \u001b[0mrain_aus\u001b[0m\u001b[1;33m[\u001b[0m\u001b[1;34m'raintoday'\u001b[0m\u001b[1;33m]\u001b[0m\u001b[1;33m.\u001b[0m\u001b[0mreplace\u001b[0m\u001b[1;33m(\u001b[0m\u001b[1;33m{\u001b[0m\u001b[1;34m'No'\u001b[0m\u001b[1;33m:\u001b[0m \u001b[1;36m0\u001b[0m\u001b[1;33m,\u001b[0m \u001b[1;34m'Yes'\u001b[0m\u001b[1;33m:\u001b[0m \u001b[1;36m1\u001b[0m\u001b[1;33m}\u001b[0m\u001b[1;33m,\u001b[0m\u001b[0minplace\u001b[0m \u001b[1;33m=\u001b[0m \u001b[1;32mTrue\u001b[0m\u001b[1;33m)\u001b[0m\u001b[1;33m\u001b[0m\u001b[1;33m\u001b[0m\u001b[0m\n\u001b[0;32m      5\u001b[0m \u001b[0mrain_aus\u001b[0m\u001b[1;33m[\u001b[0m\u001b[1;34m'raintomorrow'\u001b[0m\u001b[1;33m]\u001b[0m\u001b[1;33m.\u001b[0m\u001b[0mreplace\u001b[0m\u001b[1;33m(\u001b[0m\u001b[1;33m{\u001b[0m\u001b[1;34m'No'\u001b[0m\u001b[1;33m:\u001b[0m \u001b[1;36m0\u001b[0m\u001b[1;33m,\u001b[0m \u001b[1;34m'Yes'\u001b[0m\u001b[1;33m:\u001b[0m \u001b[1;36m1\u001b[0m\u001b[1;33m}\u001b[0m\u001b[1;33m,\u001b[0m\u001b[0minplace\u001b[0m \u001b[1;33m=\u001b[0m \u001b[1;32mTrue\u001b[0m\u001b[1;33m)\u001b[0m\u001b[1;33m\u001b[0m\u001b[1;33m\u001b[0m\u001b[0m\n",
      "\u001b[1;32m~\\AppData\\Roaming\\Python\\Python38\\site-packages\\pandas\\io\\parsers.py\u001b[0m in \u001b[0;36mparser_f\u001b[1;34m(filepath_or_buffer, sep, delimiter, header, names, index_col, usecols, squeeze, prefix, mangle_dupe_cols, dtype, engine, converters, true_values, false_values, skipinitialspace, skiprows, skipfooter, nrows, na_values, keep_default_na, na_filter, verbose, skip_blank_lines, parse_dates, infer_datetime_format, keep_date_col, date_parser, dayfirst, cache_dates, iterator, chunksize, compression, thousands, decimal, lineterminator, quotechar, quoting, doublequote, escapechar, comment, encoding, dialect, error_bad_lines, warn_bad_lines, delim_whitespace, low_memory, memory_map, float_precision)\u001b[0m\n\u001b[0;32m    674\u001b[0m         )\n\u001b[0;32m    675\u001b[0m \u001b[1;33m\u001b[0m\u001b[0m\n\u001b[1;32m--> 676\u001b[1;33m         \u001b[1;32mreturn\u001b[0m \u001b[0m_read\u001b[0m\u001b[1;33m(\u001b[0m\u001b[0mfilepath_or_buffer\u001b[0m\u001b[1;33m,\u001b[0m \u001b[0mkwds\u001b[0m\u001b[1;33m)\u001b[0m\u001b[1;33m\u001b[0m\u001b[1;33m\u001b[0m\u001b[0m\n\u001b[0m\u001b[0;32m    677\u001b[0m \u001b[1;33m\u001b[0m\u001b[0m\n\u001b[0;32m    678\u001b[0m     \u001b[0mparser_f\u001b[0m\u001b[1;33m.\u001b[0m\u001b[0m__name__\u001b[0m \u001b[1;33m=\u001b[0m \u001b[0mname\u001b[0m\u001b[1;33m\u001b[0m\u001b[1;33m\u001b[0m\u001b[0m\n",
      "\u001b[1;32m~\\AppData\\Roaming\\Python\\Python38\\site-packages\\pandas\\io\\parsers.py\u001b[0m in \u001b[0;36m_read\u001b[1;34m(filepath_or_buffer, kwds)\u001b[0m\n\u001b[0;32m    446\u001b[0m \u001b[1;33m\u001b[0m\u001b[0m\n\u001b[0;32m    447\u001b[0m     \u001b[1;31m# Create the parser.\u001b[0m\u001b[1;33m\u001b[0m\u001b[1;33m\u001b[0m\u001b[1;33m\u001b[0m\u001b[0m\n\u001b[1;32m--> 448\u001b[1;33m     \u001b[0mparser\u001b[0m \u001b[1;33m=\u001b[0m \u001b[0mTextFileReader\u001b[0m\u001b[1;33m(\u001b[0m\u001b[0mfp_or_buf\u001b[0m\u001b[1;33m,\u001b[0m \u001b[1;33m**\u001b[0m\u001b[0mkwds\u001b[0m\u001b[1;33m)\u001b[0m\u001b[1;33m\u001b[0m\u001b[1;33m\u001b[0m\u001b[0m\n\u001b[0m\u001b[0;32m    449\u001b[0m \u001b[1;33m\u001b[0m\u001b[0m\n\u001b[0;32m    450\u001b[0m     \u001b[1;32mif\u001b[0m \u001b[0mchunksize\u001b[0m \u001b[1;32mor\u001b[0m \u001b[0miterator\u001b[0m\u001b[1;33m:\u001b[0m\u001b[1;33m\u001b[0m\u001b[1;33m\u001b[0m\u001b[0m\n",
      "\u001b[1;32m~\\AppData\\Roaming\\Python\\Python38\\site-packages\\pandas\\io\\parsers.py\u001b[0m in \u001b[0;36m__init__\u001b[1;34m(self, f, engine, **kwds)\u001b[0m\n\u001b[0;32m    878\u001b[0m             \u001b[0mself\u001b[0m\u001b[1;33m.\u001b[0m\u001b[0moptions\u001b[0m\u001b[1;33m[\u001b[0m\u001b[1;34m\"has_index_names\"\u001b[0m\u001b[1;33m]\u001b[0m \u001b[1;33m=\u001b[0m \u001b[0mkwds\u001b[0m\u001b[1;33m[\u001b[0m\u001b[1;34m\"has_index_names\"\u001b[0m\u001b[1;33m]\u001b[0m\u001b[1;33m\u001b[0m\u001b[1;33m\u001b[0m\u001b[0m\n\u001b[0;32m    879\u001b[0m \u001b[1;33m\u001b[0m\u001b[0m\n\u001b[1;32m--> 880\u001b[1;33m         \u001b[0mself\u001b[0m\u001b[1;33m.\u001b[0m\u001b[0m_make_engine\u001b[0m\u001b[1;33m(\u001b[0m\u001b[0mself\u001b[0m\u001b[1;33m.\u001b[0m\u001b[0mengine\u001b[0m\u001b[1;33m)\u001b[0m\u001b[1;33m\u001b[0m\u001b[1;33m\u001b[0m\u001b[0m\n\u001b[0m\u001b[0;32m    881\u001b[0m \u001b[1;33m\u001b[0m\u001b[0m\n\u001b[0;32m    882\u001b[0m     \u001b[1;32mdef\u001b[0m \u001b[0mclose\u001b[0m\u001b[1;33m(\u001b[0m\u001b[0mself\u001b[0m\u001b[1;33m)\u001b[0m\u001b[1;33m:\u001b[0m\u001b[1;33m\u001b[0m\u001b[1;33m\u001b[0m\u001b[0m\n",
      "\u001b[1;32m~\\AppData\\Roaming\\Python\\Python38\\site-packages\\pandas\\io\\parsers.py\u001b[0m in \u001b[0;36m_make_engine\u001b[1;34m(self, engine)\u001b[0m\n\u001b[0;32m   1112\u001b[0m     \u001b[1;32mdef\u001b[0m \u001b[0m_make_engine\u001b[0m\u001b[1;33m(\u001b[0m\u001b[0mself\u001b[0m\u001b[1;33m,\u001b[0m \u001b[0mengine\u001b[0m\u001b[1;33m=\u001b[0m\u001b[1;34m\"c\"\u001b[0m\u001b[1;33m)\u001b[0m\u001b[1;33m:\u001b[0m\u001b[1;33m\u001b[0m\u001b[1;33m\u001b[0m\u001b[0m\n\u001b[0;32m   1113\u001b[0m         \u001b[1;32mif\u001b[0m \u001b[0mengine\u001b[0m \u001b[1;33m==\u001b[0m \u001b[1;34m\"c\"\u001b[0m\u001b[1;33m:\u001b[0m\u001b[1;33m\u001b[0m\u001b[1;33m\u001b[0m\u001b[0m\n\u001b[1;32m-> 1114\u001b[1;33m             \u001b[0mself\u001b[0m\u001b[1;33m.\u001b[0m\u001b[0m_engine\u001b[0m \u001b[1;33m=\u001b[0m \u001b[0mCParserWrapper\u001b[0m\u001b[1;33m(\u001b[0m\u001b[0mself\u001b[0m\u001b[1;33m.\u001b[0m\u001b[0mf\u001b[0m\u001b[1;33m,\u001b[0m \u001b[1;33m**\u001b[0m\u001b[0mself\u001b[0m\u001b[1;33m.\u001b[0m\u001b[0moptions\u001b[0m\u001b[1;33m)\u001b[0m\u001b[1;33m\u001b[0m\u001b[1;33m\u001b[0m\u001b[0m\n\u001b[0m\u001b[0;32m   1115\u001b[0m         \u001b[1;32melse\u001b[0m\u001b[1;33m:\u001b[0m\u001b[1;33m\u001b[0m\u001b[1;33m\u001b[0m\u001b[0m\n\u001b[0;32m   1116\u001b[0m             \u001b[1;32mif\u001b[0m \u001b[0mengine\u001b[0m \u001b[1;33m==\u001b[0m \u001b[1;34m\"python\"\u001b[0m\u001b[1;33m:\u001b[0m\u001b[1;33m\u001b[0m\u001b[1;33m\u001b[0m\u001b[0m\n",
      "\u001b[1;32m~\\AppData\\Roaming\\Python\\Python38\\site-packages\\pandas\\io\\parsers.py\u001b[0m in \u001b[0;36m__init__\u001b[1;34m(self, src, **kwds)\u001b[0m\n\u001b[0;32m   1889\u001b[0m         \u001b[0mkwds\u001b[0m\u001b[1;33m[\u001b[0m\u001b[1;34m\"usecols\"\u001b[0m\u001b[1;33m]\u001b[0m \u001b[1;33m=\u001b[0m \u001b[0mself\u001b[0m\u001b[1;33m.\u001b[0m\u001b[0musecols\u001b[0m\u001b[1;33m\u001b[0m\u001b[1;33m\u001b[0m\u001b[0m\n\u001b[0;32m   1890\u001b[0m \u001b[1;33m\u001b[0m\u001b[0m\n\u001b[1;32m-> 1891\u001b[1;33m         \u001b[0mself\u001b[0m\u001b[1;33m.\u001b[0m\u001b[0m_reader\u001b[0m \u001b[1;33m=\u001b[0m \u001b[0mparsers\u001b[0m\u001b[1;33m.\u001b[0m\u001b[0mTextReader\u001b[0m\u001b[1;33m(\u001b[0m\u001b[0msrc\u001b[0m\u001b[1;33m,\u001b[0m \u001b[1;33m**\u001b[0m\u001b[0mkwds\u001b[0m\u001b[1;33m)\u001b[0m\u001b[1;33m\u001b[0m\u001b[1;33m\u001b[0m\u001b[0m\n\u001b[0m\u001b[0;32m   1892\u001b[0m         \u001b[0mself\u001b[0m\u001b[1;33m.\u001b[0m\u001b[0munnamed_cols\u001b[0m \u001b[1;33m=\u001b[0m \u001b[0mself\u001b[0m\u001b[1;33m.\u001b[0m\u001b[0m_reader\u001b[0m\u001b[1;33m.\u001b[0m\u001b[0munnamed_cols\u001b[0m\u001b[1;33m\u001b[0m\u001b[1;33m\u001b[0m\u001b[0m\n\u001b[0;32m   1893\u001b[0m \u001b[1;33m\u001b[0m\u001b[0m\n",
      "\u001b[1;32mpandas\\_libs\\parsers.pyx\u001b[0m in \u001b[0;36mpandas._libs.parsers.TextReader.__cinit__\u001b[1;34m()\u001b[0m\n",
      "\u001b[1;32mpandas\\_libs\\parsers.pyx\u001b[0m in \u001b[0;36mpandas._libs.parsers.TextReader._setup_parser_source\u001b[1;34m()\u001b[0m\n",
      "\u001b[1;31mFileNotFoundError\u001b[0m: [Errno 2] File data_rain/rain_data_aus.csv does not exist: 'data_rain/rain_data_aus.csv'"
     ]
    }
   ],
   "source": [
    "#Import key_table\n",
    "rain_aus = pd.read_csv(\"data_rain/rain_data_aus.csv\")\n",
    "rain_aus = rain_aus.rename(columns={\"amountOfRain\": \"amntraintmrw\"})\n",
    "rain_aus['raintoday'].replace({'No': 0, 'Yes': 1},inplace = True)\n",
    "rain_aus['raintomorrow'].replace({'No': 0, 'Yes': 1},inplace = True)\n",
    "rain_aus.head()\n",
    "#Resample and resize variable\n",
    "no = rain_aus[rain_aus.raintomorrow == 0]\n",
    "yes = rain_aus[rain_aus.raintomorrow == 1]\n",
    "yes_oversampled = resample(yes, replace=True, n_samples=len(no), random_state=123)\n",
    "rain_oversample = pd.concat([no, yes_oversampled])\n",
    "#Plot and see resample\n",
    "fig = plt.figure(figsize = (8,5))\n",
    "rain_oversample.raintomorrow.value_counts(normalize = True).plot(kind='bar', color= ['skyblue','navy'], alpha = 0.9, rot=0)\n",
    "plt.title('RainTomorrow Indicator No(0) and Yes(1) after Oversampling (Balanced Dataset)')\n",
    "plt.show()"
   ]
  },
  {
   "cell_type": "code",
   "execution_count": 8,
   "metadata": {
    "ExecuteTime": {
     "end_time": "2021-05-10T19:07:08.175084Z",
     "start_time": "2021-05-10T19:07:07.292883Z"
    }
   },
   "outputs": [],
   "source": [
    "#Import side_tables and concatenate in one\n",
    "wind1 = pd.read_csv(\"data_rain/wind_table_01.csv\")\n",
    "wind2 = pd.read_csv(\"data_rain/wind_table_02.csv\")\n",
    "wind3= pd.read_csv(\"data_rain/wind_table_03.csv\")\n",
    "wind4 = pd.read_csv(\"data_rain/wind_table_04.csv\")\n",
    "wind5 = pd.read_csv(\"data_rain/wind_table_05.csv\")\n",
    "wind6 = pd.read_csv(\"data_rain/wind_table_06.csv\")\n",
    "wind7 = pd.read_csv(\"data_rain/wind_table_07.csv\")\n",
    "wind8 = pd.read_csv(\"data_rain/wind_table_08.csv\")\n",
    "wind = pd.concat([wind1, wind2, wind3, wind4, wind5, wind6, wind7, wind8])\n",
    "#Correct merged side_tables\n",
    "cont = 2\n",
    "for col in wind.columns[8:14]:\n",
    "    wind.loc[~wind[col].isnull(), wind.columns[cont]] = wind.loc[~wind[col].isnull(), col]\n",
    "    cont +=1\n",
    "wind = wind.drop(['windgustdir', 'windgustspeed', 'winddir9am', 'winddir3pm', 'windspeed9am', 'windspeed3pm'], axis=1)"
   ]
  },
  {
   "cell_type": "code",
   "execution_count": 9,
   "metadata": {
    "ExecuteTime": {
     "end_time": "2021-05-10T19:07:09.774923Z",
     "start_time": "2021-05-10T19:07:09.287326Z"
    },
    "scrolled": true
   },
   "outputs": [],
   "source": [
    "#Merge all tables and apply conditions to correct it\n",
    "rain_merge = pd.merge(left=rain_aus, right=wind, how='left', on=['date', 'location'])\n",
    "rain_merge['date'] = pd.to_datetime(rain_merge['date'].str.strip(), format='%Y/%m/%d')\n",
    "rain_merge.loc[(rain_merge.amntraintmrw < 0.4),'amntraintmrw']=0\n",
    "#Duplicates\n",
    "    #rain_merge.groupby(rain_merge.columns.tolist(),as_index=False).size())"
   ]
  },
  {
   "cell_type": "code",
   "execution_count": 10,
   "metadata": {
    "ExecuteTime": {
     "end_time": "2021-05-10T19:07:14.396556Z",
     "start_time": "2021-05-10T19:07:14.237937Z"
    }
   },
   "outputs": [],
   "source": [
    "#Correct type from columns\n",
    "rain_merge['wind_gustdir'] = rain_merge['wind_gustdir'].astype(str)\n",
    "rain_merge['wind_dir9am'] = rain_merge['wind_dir9am'].astype(str)\n",
    "rain_merge['wind_dir3pm'] = rain_merge['wind_dir3pm'].astype(str)\n",
    "#turn it into a scale\n",
    "encoder = LabelEncoder()\n",
    "encoder.fit(rain_merge['wind_gustdir'])\n",
    "#transform\n",
    "rain_merge['wind_gustdir'] = encoder.transform(rain_merge['wind_gustdir'])\n",
    "rain_merge['wind_dir9am'] = encoder.transform(rain_merge['wind_dir9am'])\n",
    "rain_merge['wind_dir3pm'] = encoder.transform(rain_merge['wind_dir3pm'])"
   ]
  },
  {
   "cell_type": "code",
   "execution_count": null,
   "metadata": {
    "ExecuteTime": {
     "end_time": "2021-05-10T19:04:26.642979Z",
     "start_time": "2021-05-10T19:04:12.792Z"
    }
   },
   "outputs": [],
   "source": [
    "#see min and max from table\n",
    "print(rain_merge['date'].min())\n",
    "print(rain_merge['date'].max())"
   ]
  },
  {
   "cell_type": "code",
   "execution_count": 14,
   "metadata": {
    "ExecuteTime": {
     "end_time": "2021-05-10T19:10:41.485716Z",
     "start_time": "2021-05-10T19:10:41.369988Z"
    }
   },
   "outputs": [],
   "source": [
    "#Create a table by your current season (apply one month ago + actual month + next month)\n",
    "seasoned_rain = rain_merge[(rain_merge['date'].dt.month == 4) | (rain_merge['date'].dt.month == 5) | (rain_merge['date'].dt.month == 6)]\n",
    "seasoned_rain = seasoned_rain[~(seasoned_rain['date'].dt.year <= 2007)]\n",
    "#seasoned_rain = seasoned_rain[~(seasoned_rain['date'].dt.year >= 2017)]\n",
    "#Export your table cleaned\n",
    "#rain_merge.to_csv('C:/Users/user/2. GIT_PROJECTS/Desafios/Projeto 4 - Itau/case/data/rain_cleaned.csv', index = False, header=True)\n",
    "#seasoned_rain.to_csv('C:/Users/user/2. GIT_PROJECTS/Desafios/Projeto 4 - Itau/case/data/seasoned_rain.csv', index = False, header=True)"
   ]
  },
  {
   "cell_type": "code",
   "execution_count": null,
   "metadata": {
    "ExecuteTime": {
     "end_time": "2021-05-10T19:04:26.646073Z",
     "start_time": "2021-05-10T19:04:12.807Z"
    }
   },
   "outputs": [],
   "source": [
    "#Check your final table!\n",
    "seasoned_rain"
   ]
  },
  {
   "cell_type": "markdown",
   "metadata": {
    "heading_collapsed": true
   },
   "source": [
    "# If you want to explore your data with graphs (TAKES TIME!!)"
   ]
  },
  {
   "cell_type": "code",
   "execution_count": null,
   "metadata": {
    "ExecuteTime": {
     "end_time": "2021-05-10T19:04:26.647031Z",
     "start_time": "2021-05-10T19:04:12.817Z"
    },
    "hidden": true
   },
   "outputs": [],
   "source": [
    "#Check pairplot if you want to analyze it(takes time to process it!!)\n",
    "    #pairplot = sns.pairplot(rain_merge)\n",
    "    #fig = pairplot.get_figure()\n",
    "    #fig.savefig(\"rain_merge.png\")"
   ]
  },
  {
   "cell_type": "code",
   "execution_count": null,
   "metadata": {
    "ExecuteTime": {
     "end_time": "2021-05-10T19:04:26.648029Z",
     "start_time": "2021-05-10T19:04:12.822Z"
    },
    "hidden": true
   },
   "outputs": [],
   "source": [
    "#Check pairplot if you want to analyze it(takes time to process it!!)\n",
    "    #pairplot = sns.pairplot(seasoned_rain)\n",
    "    #fig = pairplot.get_figure()\n",
    "    #fig.savefig(\"seasoned_rain.png\") "
   ]
  },
  {
   "cell_type": "code",
   "execution_count": null,
   "metadata": {
    "ExecuteTime": {
     "end_time": "2021-05-10T19:04:26.649027Z",
     "start_time": "2021-05-10T19:04:12.826Z"
    },
    "hidden": true
   },
   "outputs": [],
   "source": [
    "#Export an automated exploratory analysys (takes time to process it!!)\n",
    "#prof = ProfileReport(rain_merge, title=\"Rain in Austraia Seasoned Report\", explorative=True)\n",
    "#prof.to_file(output_file='Australia Rain Seasoned Report.html')"
   ]
  },
  {
   "cell_type": "markdown",
   "metadata": {},
   "source": [
    "# Predict the future!"
   ]
  },
  {
   "cell_type": "code",
   "execution_count": 11,
   "metadata": {
    "ExecuteTime": {
     "end_time": "2021-05-10T19:08:08.581680Z",
     "start_time": "2021-05-10T19:07:55.534544Z"
    }
   },
   "outputs": [
    {
     "name": "stdout",
     "output_type": "stream",
     "text": [
      "ROC_AUC_SCORE TRAIN IS:   0.9008708292237316\n",
      "ROC_AUC_SCORE TEST IS:   0.8877292797208723\n"
     ]
    },
    {
     "data": {
      "text/plain": [
       "(0.8863931663050402, 0.004005189059588628)"
      ]
     },
     "execution_count": 11,
     "metadata": {},
     "output_type": "execute_result"
    }
   ],
   "source": [
    "#Create you best model variables FOR ALL DATA\n",
    "X = rain_merge[['mintemp', 'maxtemp', 'rainfall', 'evaporation', 'sunshine', 'humidity9am', 'humidity3pm', 'pressure9am',\n",
    "       'pressure3pm', 'cloud9am', 'cloud3pm', 'raintoday', 'precipitation3pm', 'precipitation9am',\n",
    "       'wind_gustdir', 'wind_gustspeed', 'wind_dir9am', 'wind_dir3pm', 'wind_speed9am', 'wind_speed3pm']]\n",
    "y = rain_merge['raintomorrow']\n",
    "#Split test and train\n",
    "X_train, X_test, y_train, y_test = train_test_split(X, y, test_size=0.3, random_state=42)\n",
    "#Normalize your values for the model\n",
    "scaler = StandardScaler()\n",
    "scaler.fit(X_train)\n",
    "X_train_std = scaler.transform(X_train)\n",
    "X_test_std = scaler.transform(X_test)\n",
    "#Apply your best model!\n",
    "lgbm = LGBMClassifier(max_depth=9, n_estimators=50, learning_rate=0.2, colsample_bytree=.7, n_jobs=-1)\n",
    "lgbm.fit(X_train, y_train)\n",
    "#SEE YOUR SCORE!\n",
    "print('ROC_AUC_SCORE TRAIN IS:  ', roc_auc_score(y_train, lgbm.predict_proba(X_train)[:,1]))\n",
    "print('ROC_AUC_SCORE TEST IS:  ', roc_auc_score(y_test, lgbm.predict_proba(X_test)[:,1]))\n",
    "results = cross_val_score(lgbm, X_train_std, y_train, cv=KFold(10, shuffle=True), scoring='roc_auc')\n",
    "(np.mean(results), np.std(results))"
   ]
  },
  {
   "cell_type": "code",
   "execution_count": 15,
   "metadata": {
    "ExecuteTime": {
     "end_time": "2021-05-10T19:10:53.901530Z",
     "start_time": "2021-05-10T19:10:47.866502Z"
    }
   },
   "outputs": [
    {
     "name": "stdout",
     "output_type": "stream",
     "text": [
      "ROC_AUC_SCORE TRAIN IS:   0.9211210187170673\n",
      "ROC_AUC_SCORE TEST IS:   0.9009187540607805\n"
     ]
    },
    {
     "data": {
      "text/plain": [
       "(0.8937993988549241, 0.006679861797309695)"
      ]
     },
     "execution_count": 15,
     "metadata": {},
     "output_type": "execute_result"
    }
   ],
   "source": [
    "#Create you best model variables FOR YOUR SEASONAL CUT\n",
    "X = seasoned_rain[['mintemp', 'maxtemp', 'rainfall', 'evaporation', 'sunshine', 'humidity9am', 'humidity3pm', 'pressure9am',\n",
    "       'pressure3pm', 'cloud9am', 'cloud3pm', 'raintoday', 'precipitation3pm', 'precipitation9am',\n",
    "       'wind_gustdir', 'wind_gustspeed', 'wind_dir9am', 'wind_dir3pm', 'wind_speed9am', 'wind_speed3pm']]\n",
    "y = seasoned_rain['raintomorrow']\n",
    "#Split test and train\n",
    "X_train, X_test, y_train, y_test = train_test_split(X, y, test_size=0.3, random_state=42)\n",
    "#Normalize your values for the model\n",
    "scaler = StandardScaler()\n",
    "scaler.fit(X_train)\n",
    "X_train_std = scaler.transform(X_train)\n",
    "X_test_std = scaler.transform(X_test)\n",
    "#Apply your best model!\n",
    "lgbm = LGBMClassifier(max_depth=9, n_estimators=60, learning_rate=0.1, colsample_bytree=.7, n_jobs=-1)\n",
    "lgbm.fit(X_train, y_train)\n",
    "#SEE YOUR SCORE!\n",
    "print('ROC_AUC_SCORE TRAIN IS:  ', roc_auc_score(y_train, lgbm.predict_proba(X_train)[:,1]))\n",
    "print('ROC_AUC_SCORE TEST IS:  ', roc_auc_score(y_test, lgbm.predict_proba(X_test)[:,1]))\n",
    "results = cross_val_score(lgbm, X_train_std, y_train, cv=KFold(10, shuffle=True), scoring='roc_auc')\n",
    "(np.mean(results), np.std(results))"
   ]
  },
  {
   "cell_type": "code",
   "execution_count": 16,
   "metadata": {
    "ExecuteTime": {
     "end_time": "2021-05-10T19:10:58.298733Z",
     "start_time": "2021-05-10T19:10:58.144630Z"
    }
   },
   "outputs": [
    {
     "name": "stdout",
     "output_type": "stream",
     "text": [
      "0.5851303508207274\n",
      "0.7590814196242172\n",
      "0.6608505997818975\n"
     ]
    }
   ],
   "source": [
    "from sklearn.metrics import precision_score, recall_score, f1_score\n",
    "\n",
    "print(precision_score(lgbm.predict(X_test), y_test))\n",
    "print(recall_score(lgbm.predict(X_test), y_test))\n",
    "print(f1_score(lgbm.predict(X_test), y_test))"
   ]
  },
  {
   "cell_type": "code",
   "execution_count": 17,
   "metadata": {
    "ExecuteTime": {
     "end_time": "2021-05-10T19:14:43.300102Z",
     "start_time": "2021-05-10T19:14:42.953142Z"
    }
   },
   "outputs": [
    {
     "data": {
      "text/plain": [
       "<sklearn.metrics._plot.roc_curve.RocCurveDisplay at 0x1d9068d6040>"
      ]
     },
     "execution_count": 17,
     "metadata": {},
     "output_type": "execute_result"
    },
    {
     "data": {
      "image/png": "[encoded data removed]",
      "text/plain": [
       "<Figure size 432x288 with 1 Axes>"
      ]
     },
     "metadata": {
      "needs_background": "light"
     },
     "output_type": "display_data"
    }
   ],
   "source": [
    "fig, ax = plt.subplots()\n",
    "\n",
    "plot_roc_curve(lgbm, X_train, y_train, ax=ax)\n",
    "plot_roc_curve(lgbm, X_test, y_test, ax=ax)"
   ]
  },
  {
   "cell_type": "code",
   "execution_count": null,
   "metadata": {
    "ExecuteTime": {
     "end_time": "2021-05-10T19:04:26.651022Z",
     "start_time": "2021-05-10T19:04:12.839Z"
    }
   },
   "outputs": [],
   "source": [
    "#If you want to compare with other model (REALLY HEAVY JOB, TAKES TIME!)\n",
    "    #reg = LazyRegressor(ignore_warnings=False, custom_metric=None)\n",
    "    #models, predictions = reg.fit(X_train, X_test, y_train, y_test)"
   ]
  },
  {
   "cell_type": "code",
   "execution_count": null,
   "metadata": {
    "ExecuteTime": {
     "end_time": "2021-05-10T19:04:26.652017Z",
     "start_time": "2021-05-10T19:04:12.845Z"
    }
   },
   "outputs": [],
   "source": [
    "#Try to undersample or oversample more your table by historical series\n",
    "    #no = rain_merge[rain_merge.date > 3000]\n",
    "    #yes = rain_merge[rain_merge.date <= 3000]\n",
    "    #yes_oversampled = resample(yes, replace=True, n_samples=len(no), random_state=123)\n",
    "    #rain_oversample = pd.concat([no, yes_oversampled])\n",
    "\n",
    "    #fig = plt.figure(figsize = (8,5))\n",
    "    #rain_oversample.date.value_counts(normalize = True).plot(kind='bar', color= ['skyblue','navy'], alpha = 0.9, rot=0)\n",
    "    #plt.title('RainTomorrow Indicator No(0) and Yes(1) after Oversampling (Balanced Dataset)')\n",
    "    #plt.show()\n"
   ]
  },
  {
   "cell_type": "markdown",
   "metadata": {},
   "source": [
    "# By City"
   ]
  },
  {
   "cell_type": "code",
   "execution_count": null,
   "metadata": {
    "ExecuteTime": {
     "end_time": "2021-05-10T19:04:26.653018Z",
     "start_time": "2021-05-10T19:04:12.853Z"
    }
   },
   "outputs": [],
   "source": [
    "dfs = dict(tuple(seasoned_rain.groupby('location')))\n",
    "cities_list = list(dfs)\n",
    "print(cities_list)"
   ]
  },
  {
   "cell_type": "code",
   "execution_count": null,
   "metadata": {
    "ExecuteTime": {
     "end_time": "2021-05-10T19:04:26.654013Z",
     "start_time": "2021-05-10T19:04:12.857Z"
    }
   },
   "outputs": [],
   "source": [
    "Adelaide = dfs['Adelaide']\n",
    "#Create you best model variables\n",
    "X = Adelaide[['mintemp', 'maxtemp', 'rainfall', 'sunshine', 'humidity9am', 'humidity3pm', 'pressure9am',\n",
    "       'pressure3pm', 'cloud9am', 'cloud3pm', 'raintoday', 'precipitation3pm', 'precipitation9am',\n",
    "       'wind_gustdir', 'wind_gustspeed', 'wind_dir9am', 'wind_dir3pm', 'wind_speed9am', 'wind_speed3pm']]\n",
    "y = Adelaide['raintomorrow']\n",
    "#Split test and train\n",
    "X_train, X_test, y_train, y_test = train_test_split(X, y, test_size=0.3, random_state=42)\n",
    "#Normalize your values for the model\n",
    "scaler = StandardScaler()\n",
    "scaler.fit(X_train)\n",
    "X_train_std = scaler.transform(X_train)\n",
    "X_test_std = scaler.transform(X_test)\n",
    "#Apply your best model!\n",
    "lgbm = LGBMClassifier(max_depth=3, n_estimators=10, learning_rate=0.1, colsample_bytree=.7, n_jobs=-1)\n",
    "lgbm.fit(X_train, y_train)\n",
    "#SEE YOUR SCORE!\n",
    "print('ROC_AUC_SCORE TRAIN IS:  ', roc_auc_score(y_train, lgbm.predict_proba(X_train)[:,1]))\n",
    "print('ROC_AUC_SCORE TEST IS:  ', roc_auc_score(y_test, lgbm.predict_proba(X_test)[:,1]))\n",
    "results = cross_val_score(lgbm, X_train_std, y_train, cv=KFold(10, shuffle=True), scoring='roc_auc')\n",
    "(np.mean(results), np.std(results))"
   ]
  },
  {
   "cell_type": "code",
   "execution_count": null,
   "metadata": {
    "ExecuteTime": {
     "end_time": "2021-05-10T19:04:26.656008Z",
     "start_time": "2021-05-10T19:04:12.863Z"
    }
   },
   "outputs": [],
   "source": [
    "Albany = dfs['Albany']\n",
    "#Create you best model variables\n",
    "X = Albany[['mintemp', 'maxtemp', 'rainfall', 'evaporation', 'sunshine', 'humidity9am', 'humidity3pm', 'pressure9am',\n",
    "       'pressure3pm', 'cloud9am', 'cloud3pm', 'raintoday', 'precipitation3pm', 'precipitation9am',\n",
    "       'wind_gustdir', 'wind_gustspeed', 'wind_dir9am', 'wind_dir3pm', 'wind_speed9am', 'wind_speed3pm']]\n",
    "y = Albany['raintomorrow']\n",
    "#Split test and train\n",
    "X_train, X_test, y_train, y_test = train_test_split(X, y, test_size=0.4, random_state=42)\n",
    "#Normalize your values for the model\n",
    "scaler = StandardScaler()\n",
    "scaler.fit(X_train)\n",
    "X_train_std = scaler.transform(X_train)\n",
    "X_test_std = scaler.transform(X_test)\n",
    "#Apply your best model!\n",
    "lgbm = LGBMClassifier(max_depth=3, n_estimators=10, learning_rate=0.1, colsample_bytree=.7, n_jobs=-1)\n",
    "lgbm.fit(X_train, y_train)\n",
    "#SEE YOUR SCORE!\n",
    "print('ROC_AUC_SCORE TRAIN IS:  ', roc_auc_score(y_train, lgbm.predict_proba(X_train)[:,1]))\n",
    "print('ROC_AUC_SCORE TEST IS:  ', roc_auc_score(y_test, lgbm.predict_proba(X_test)[:,1]))\n",
    "results = cross_val_score(lgbm, X_train_std, y_train, cv=KFold(10, shuffle=True), scoring='roc_auc')\n",
    "(np.mean(results), np.std(results))"
   ]
  },
  {
   "cell_type": "code",
   "execution_count": null,
   "metadata": {
    "ExecuteTime": {
     "end_time": "2021-05-10T19:04:26.657004Z",
     "start_time": "2021-05-10T19:04:12.870Z"
    }
   },
   "outputs": [],
   "source": [
    "Albury =  dfs['Albury']\n",
    "X = Albury[['mintemp', 'maxtemp', 'rainfall', 'evaporation', 'sunshine', 'humidity9am', 'humidity3pm', 'pressure9am',\n",
    "       'pressure3pm', 'cloud9am', 'cloud3pm', 'raintoday', 'precipitation3pm', 'precipitation9am',\n",
    "       'wind_gustdir', 'wind_gustspeed', 'wind_dir9am', 'wind_dir3pm', 'wind_speed9am', 'wind_speed3pm']]\n",
    "y = Albury['raintomorrow']\n",
    "#Split test and train\n",
    "X_train, X_test, y_train, y_test = train_test_split(X, y, test_size=0.2, random_state=42)\n",
    "#Normalize your values for the model\n",
    "scaler = StandardScaler()\n",
    "scaler.fit(X_train)\n",
    "X_train_std = scaler.transform(X_train)\n",
    "X_test_std = scaler.transform(X_test)\n",
    "#Apply your best model!\n",
    "lgbm = LGBMClassifier(max_depth=3, n_estimators=10, learning_rate=0.1, colsample_bytree=.7, n_jobs=-1)\n",
    "lgbm.fit(X_train, y_train)\n",
    "#SEE YOUR SCORE!\n",
    "print('ROC_AUC_SCORE TRAIN IS:  ', roc_auc_score(y_train, lgbm.predict_proba(X_train)[:,1]))\n",
    "print('ROC_AUC_SCORE TEST IS:  ', roc_auc_score(y_test, lgbm.predict_proba(X_test)[:,1]))\n",
    "results = cross_val_score(lgbm, X_train_std, y_train, cv=KFold(10, shuffle=True), scoring='roc_auc')\n",
    "(np.mean(results), np.std(results))"
   ]
  },
  {
   "cell_type": "code",
   "execution_count": null,
   "metadata": {
    "ExecuteTime": {
     "end_time": "2021-05-10T19:04:26.659014Z",
     "start_time": "2021-05-10T19:04:12.877Z"
    }
   },
   "outputs": [],
   "source": [
    "AliceSprings = dfs['AliceSprings']\n",
    "X = AliceSprings[['mintemp', 'maxtemp', 'rainfall', 'evaporation', 'sunshine', 'humidity9am', 'humidity3pm', 'pressure9am',\n",
    "       'pressure3pm', 'cloud9am', 'cloud3pm', 'raintoday', 'precipitation3pm', 'precipitation9am',\n",
    "       'wind_gustdir', 'wind_gustspeed', 'wind_dir9am', 'wind_dir3pm', 'wind_speed9am', 'wind_speed3pm']]\n",
    "y = AliceSprings['raintomorrow']\n",
    "#Split test and train\n",
    "X_train, X_test, y_train, y_test = train_test_split(X, y, test_size=0.2, random_state=42)\n",
    "#Normalize your values for the model\n",
    "scaler = StandardScaler()\n",
    "scaler.fit(X_train)\n",
    "X_train_std = scaler.transform(X_train)\n",
    "X_test_std = scaler.transform(X_test)\n",
    "#Apply your best model!\n",
    "lgbm = LGBMClassifier(max_depth=3, n_estimators=10, learning_rate=0.1, colsample_bytree=.7, n_jobs=-1)\n",
    "lgbm.fit(X_train, y_train)\n",
    "#SEE YOUR SCORE!\n",
    "print('ROC_AUC_SCORE TRAIN IS:  ', roc_auc_score(y_train, lgbm.predict_proba(X_train)[:,1]))\n",
    "print('ROC_AUC_SCORE TEST IS:  ', roc_auc_score(y_test, lgbm.predict_proba(X_test)[:,1]))"
   ]
  },
  {
   "cell_type": "code",
   "execution_count": null,
   "metadata": {
    "ExecuteTime": {
     "end_time": "2021-05-10T19:04:26.659996Z",
     "start_time": "2021-05-10T19:04:12.883Z"
    }
   },
   "outputs": [],
   "source": [
    "BadgerysCreek = dfs['BadgerysCreek']\n",
    "X = BadgerysCreek[['mintemp', 'maxtemp', 'rainfall', 'evaporation', 'sunshine', 'humidity9am', 'humidity3pm', 'pressure9am',\n",
    "       'pressure3pm', 'cloud9am', 'cloud3pm', 'raintoday', 'precipitation3pm', 'precipitation9am',\n",
    "       'wind_gustdir', 'wind_gustspeed', 'wind_dir9am', 'wind_dir3pm', 'wind_speed9am', 'wind_speed3pm']]\n",
    "y = BadgerysCreek['raintomorrow']\n",
    "#Split test and train\n",
    "X_train, X_test, y_train, y_test = train_test_split(X, y, test_size=0.2, random_state=42)\n",
    "#Normalize your values for the model\n",
    "scaler = StandardScaler()\n",
    "scaler.fit(X_train)\n",
    "X_train_std = scaler.transform(X_train)\n",
    "X_test_std = scaler.transform(X_test)\n",
    "#Apply your best model!\n",
    "lgbm = LGBMClassifier(max_depth=3, n_estimators=10, learning_rate=0.1, colsample_bytree=.7, n_jobs=-1)\n",
    "lgbm.fit(X_train, y_train)\n",
    "#SEE YOUR SCORE!\n",
    "print('ROC_AUC_SCORE TRAIN IS:  ', roc_auc_score(y_train, lgbm.predict_proba(X_train)[:,1]))\n",
    "print('ROC_AUC_SCORE TEST IS:  ', roc_auc_score(y_test, lgbm.predict_proba(X_test)[:,1]))"
   ]
  },
  {
   "cell_type": "code",
   "execution_count": null,
   "metadata": {
    "ExecuteTime": {
     "end_time": "2021-05-10T19:04:26.660993Z",
     "start_time": "2021-05-10T19:04:12.887Z"
    }
   },
   "outputs": [],
   "source": [
    "Ballarat = dfs['Ballarat']\n",
    "X = Ballarat[['mintemp', 'maxtemp', 'rainfall', 'evaporation', 'sunshine', 'humidity9am', 'humidity3pm', 'pressure9am',\n",
    "       'pressure3pm', 'cloud9am', 'cloud3pm', 'raintoday', 'precipitation3pm', 'precipitation9am',\n",
    "       'wind_gustdir', 'wind_gustspeed', 'wind_dir9am', 'wind_dir3pm', 'wind_speed9am', 'wind_speed3pm']]\n",
    "y = Ballarat['raintomorrow']\n",
    "#Split test and train\n",
    "X_train, X_test, y_train, y_test = train_test_split(X, y, test_size=0.3, random_state=42)\n",
    "#Normalize your values for the model\n",
    "scaler = StandardScaler()\n",
    "scaler.fit(X_train)\n",
    "X_train_std = scaler.transform(X_train)\n",
    "X_test_std = scaler.transform(X_test)\n",
    "#Apply your best model!\n",
    "lgbm = LGBMClassifier(max_depth=3, n_estimators=10, learning_rate=0.1, colsample_bytree=.7, n_jobs=-1)\n",
    "lgbm.fit(X_train, y_train)\n",
    "#SEE YOUR SCORE!\n",
    "print('ROC_AUC_SCORE TRAIN IS:  ', roc_auc_score(y_train, lgbm.predict_proba(X_train)[:,1]))\n",
    "print('ROC_AUC_SCORE TEST IS:  ', roc_auc_score(y_test, lgbm.predict_proba(X_test)[:,1]))"
   ]
  },
  {
   "cell_type": "code",
   "execution_count": null,
   "metadata": {
    "ExecuteTime": {
     "end_time": "2021-05-10T19:04:26.662988Z",
     "start_time": "2021-05-10T19:04:12.891Z"
    }
   },
   "outputs": [],
   "source": [
    "Bendigo = dfs['Bendigo']\n",
    "X = Bendigo[['mintemp', 'maxtemp', 'rainfall', 'evaporation', 'sunshine', 'humidity9am', 'humidity3pm', 'pressure9am',\n",
    "       'pressure3pm', 'cloud9am', 'cloud3pm', 'raintoday', 'precipitation3pm', 'precipitation9am',\n",
    "       'wind_gustdir', 'wind_gustspeed', 'wind_dir9am', 'wind_dir3pm', 'wind_speed9am', 'wind_speed3pm']]\n",
    "y = Bendigo['raintomorrow']\n",
    "#Split test and train\n",
    "X_train, X_test, y_train, y_test = train_test_split(X, y, test_size=0.2, random_state=42)\n",
    "#Normalize your values for the model\n",
    "scaler = StandardScaler()\n",
    "scaler.fit(X_train)\n",
    "X_train_std = scaler.transform(X_train)\n",
    "X_test_std = scaler.transform(X_test)\n",
    "#Apply your best model!\n",
    "lgbm = LGBMClassifier(max_depth=3, n_estimators=10, learning_rate=0.1, colsample_bytree=.7, n_jobs=-1)\n",
    "lgbm.fit(X_train, y_train)\n",
    "#SEE YOUR SCORE!\n",
    "print('ROC_AUC_SCORE TRAIN IS:  ', roc_auc_score(y_train, lgbm.predict_proba(X_train)[:,1]))\n",
    "print('ROC_AUC_SCORE TEST IS:  ', roc_auc_score(y_test, lgbm.predict_proba(X_test)[:,1]))"
   ]
  },
  {
   "cell_type": "code",
   "execution_count": null,
   "metadata": {
    "ExecuteTime": {
     "end_time": "2021-05-10T19:04:26.665982Z",
     "start_time": "2021-05-10T19:04:12.896Z"
    }
   },
   "outputs": [],
   "source": [
    "Brisbane = dfs['Brisbane']\n",
    "X = Brisbane[['mintemp', 'maxtemp', 'rainfall', 'evaporation', 'sunshine', 'humidity9am', 'humidity3pm', 'pressure9am',\n",
    "       'pressure3pm', 'cloud9am', 'cloud3pm', 'raintoday', 'precipitation3pm', 'precipitation9am',\n",
    "       'wind_gustdir', 'wind_gustspeed', 'wind_dir9am', 'wind_dir3pm', 'wind_speed9am', 'wind_speed3pm']]\n",
    "y = Brisbane['raintomorrow']\n",
    "#Split test and train\n",
    "X_train, X_test, y_train, y_test = train_test_split(X, y, test_size=0.3, random_state=42)\n",
    "#Normalize your values for the model\n",
    "scaler = StandardScaler()\n",
    "scaler.fit(X_train)\n",
    "X_train_std = scaler.transform(X_train)\n",
    "X_test_std = scaler.transform(X_test)\n",
    "#Apply your best model!\n",
    "lgbm = LGBMClassifier(max_depth=3, n_estimators=10, learning_rate=0.1, colsample_bytree=.7, n_jobs=-1)\n",
    "lgbm.fit(X_train, y_train)\n",
    "#SEE YOUR SCORE!\n",
    "print('ROC_AUC_SCORE TRAIN IS:  ', roc_auc_score(y_train, lgbm.predict_proba(X_train)[:,1]))\n",
    "print('ROC_AUC_SCORE TEST IS:  ', roc_auc_score(y_test, lgbm.predict_proba(X_test)[:,1]))"
   ]
  },
  {
   "cell_type": "code",
   "execution_count": null,
   "metadata": {
    "ExecuteTime": {
     "end_time": "2021-05-10T19:04:26.667976Z",
     "start_time": "2021-05-10T19:04:12.901Z"
    }
   },
   "outputs": [],
   "source": [
    "Cairns = dfs['Cairns']\n",
    "X = Cairns[['mintemp', 'maxtemp', 'rainfall', 'evaporation', 'sunshine', 'humidity9am', 'humidity3pm', 'pressure9am',\n",
    "       'pressure3pm', 'cloud9am', 'cloud3pm', 'raintoday', 'precipitation3pm', 'precipitation9am',\n",
    "       'wind_gustdir', 'wind_gustspeed', 'wind_dir9am', 'wind_dir3pm', 'wind_speed9am', 'wind_speed3pm']]\n",
    "y = Cairns['raintomorrow']\n",
    "#Split test and train\n",
    "X_train, X_test, y_train, y_test = train_test_split(X, y, test_size=0.2, random_state=42)\n",
    "#Normalize your values for the model\n",
    "scaler = StandardScaler()\n",
    "scaler.fit(X_train)\n",
    "X_train_std = scaler.transform(X_train)\n",
    "X_test_std = scaler.transform(X_test)\n",
    "#Apply your best model!\n",
    "lgbm = LGBMClassifier(max_depth=3, n_estimators=10, learning_rate=0.1, colsample_bytree=.7, n_jobs=-1)\n",
    "lgbm.fit(X_train, y_train)\n",
    "#SEE YOUR SCORE!\n",
    "print('ROC_AUC_SCORE TRAIN IS:  ', roc_auc_score(y_train, lgbm.predict_proba(X_train)[:,1]))\n",
    "print('ROC_AUC_SCORE TEST IS:  ', roc_auc_score(y_test, lgbm.predict_proba(X_test)[:,1]))"
   ]
  },
  {
   "cell_type": "code",
   "execution_count": null,
   "metadata": {
    "ExecuteTime": {
     "end_time": "2021-05-10T19:04:26.668972Z",
     "start_time": "2021-05-10T19:04:12.909Z"
    }
   },
   "outputs": [],
   "source": [
    "Canberra = dfs['Canberra']\n",
    "X = Canberra[['mintemp', 'maxtemp', 'rainfall', 'evaporation', 'sunshine', 'humidity9am', 'humidity3pm', 'pressure9am',\n",
    "       'pressure3pm', 'cloud9am', 'cloud3pm', 'raintoday', 'precipitation3pm', 'precipitation9am',\n",
    "       'wind_gustdir', 'wind_gustspeed', 'wind_dir9am', 'wind_dir3pm', 'wind_speed9am', 'wind_speed3pm']]\n",
    "y = Canberra['raintomorrow']\n",
    "#Split test and train\n",
    "X_train, X_test, y_train, y_test = train_test_split(X, y, test_size=0.5, random_state=42)\n",
    "#Normalize your values for the model\n",
    "scaler = StandardScaler()\n",
    "scaler.fit(X_train)\n",
    "X_train_std = scaler.transform(X_train)\n",
    "X_test_std = scaler.transform(X_test)\n",
    "#Apply your best model!\n",
    "lgbm = LGBMClassifier(max_depth=3, n_estimators=10, learning_rate=0.1, colsample_bytree=.7, n_jobs=-1)\n",
    "lgbm.fit(X_train, y_train)\n",
    "#SEE YOUR SCORE!\n",
    "print('ROC_AUC_SCORE TRAIN IS:  ', roc_auc_score(y_train, lgbm.predict_proba(X_train)[:,1]))\n",
    "print('ROC_AUC_SCORE TEST IS:  ', roc_auc_score(y_test, lgbm.predict_proba(X_test)[:,1]))"
   ]
  },
  {
   "cell_type": "code",
   "execution_count": null,
   "metadata": {
    "ExecuteTime": {
     "end_time": "2021-05-10T19:04:26.669970Z",
     "start_time": "2021-05-10T19:04:12.918Z"
    }
   },
   "outputs": [],
   "source": [
    "Cobar = dfs['Cobar']\n",
    "X = Cobar[['mintemp', 'maxtemp', 'rainfall', 'evaporation', 'sunshine', 'humidity9am', 'humidity3pm', 'pressure9am',\n",
    "       'pressure3pm', 'cloud9am', 'cloud3pm', 'raintoday', 'precipitation3pm', 'precipitation9am',\n",
    "       'wind_gustdir', 'wind_gustspeed', 'wind_dir9am', 'wind_dir3pm', 'wind_speed9am', 'wind_speed3pm']]\n",
    "y = Cobar['raintomorrow']\n",
    "#Split test and train\n",
    "X_train, X_test, y_train, y_test = train_test_split(X, y, test_size=0.1,  random_state=42)\n",
    "#Normalize your values for the model\n",
    "scaler = StandardScaler()\n",
    "scaler.fit(X_train)\n",
    "X_train_std = scaler.transform(X_train)\n",
    "X_test_std = scaler.transform(X_test)\n",
    "#Apply your best model!\n",
    "lgbm = LGBMClassifier(max_depth=3, n_estimators=10, learning_rate=0.1, colsample_bytree=.7, n_jobs=-1)\n",
    "lgbm.fit(X_train, y_train)\n",
    "#SEE YOUR SCORE!\n",
    "print('ROC_AUC_SCORE TRAIN IS:  ', roc_auc_score(y_train, lgbm.predict_proba(X_train)[:,1]))\n",
    "print('ROC_AUC_SCORE TEST IS:  ', roc_auc_score(y_test, lgbm.predict_proba(X_test)[:,1]))"
   ]
  },
  {
   "cell_type": "code",
   "execution_count": null,
   "metadata": {
    "ExecuteTime": {
     "end_time": "2021-05-10T19:04:26.671965Z",
     "start_time": "2021-05-10T19:04:12.922Z"
    }
   },
   "outputs": [],
   "source": [
    "CoffsHarbour = dfs['CoffsHarbour']\n",
    "X = CoffsHarbour[['mintemp', 'maxtemp', 'rainfall', 'evaporation', 'sunshine', 'humidity9am', 'humidity3pm', 'pressure9am',\n",
    "       'pressure3pm', 'cloud9am', 'cloud3pm', 'raintoday', 'precipitation3pm', 'precipitation9am',\n",
    "       'wind_gustdir', 'wind_gustspeed', 'wind_dir9am', 'wind_dir3pm', 'wind_speed9am', 'wind_speed3pm']]\n",
    "y = CoffsHarbour['raintomorrow']\n",
    "#Split test and train\n",
    "X_train, X_test, y_train, y_test = train_test_split(X, y, test_size=0.3, random_state=42)\n",
    "#Normalize your values for the model\n",
    "scaler = StandardScaler()\n",
    "scaler.fit(X_train)\n",
    "X_train_std = scaler.transform(X_train)\n",
    "X_test_std = scaler.transform(X_test)\n",
    "#Apply your best model!\n",
    "lgbm = LGBMClassifier(max_depth=3, n_estimators=10, learning_rate=0.1, colsample_bytree=.7, n_jobs=-1)\n",
    "lgbm.fit(X_train, y_train)\n",
    "#SEE YOUR SCORE!\n",
    "print('ROC_AUC_SCORE TRAIN IS:  ', roc_auc_score(y_train, lgbm.predict_proba(X_train)[:,1]))\n",
    "print('ROC_AUC_SCORE TEST IS:  ', roc_auc_score(y_test, lgbm.predict_proba(X_test)[:,1]))"
   ]
  },
  {
   "cell_type": "code",
   "execution_count": null,
   "metadata": {
    "ExecuteTime": {
     "end_time": "2021-05-10T19:04:26.673985Z",
     "start_time": "2021-05-10T19:04:12.926Z"
    }
   },
   "outputs": [],
   "source": [
    "Dartmoor = dfs['Dartmoor']\n",
    "X = Dartmoor[['mintemp', 'maxtemp', 'rainfall', 'evaporation', 'sunshine', 'humidity9am', 'humidity3pm', 'pressure9am',\n",
    "       'pressure3pm', 'cloud9am', 'cloud3pm', 'raintoday', 'precipitation3pm', 'precipitation9am',\n",
    "       'wind_gustdir', 'wind_gustspeed', 'wind_dir9am', 'wind_dir3pm', 'wind_speed9am', 'wind_speed3pm']]\n",
    "y = Dartmoor['raintomorrow']\n",
    "#Split test and train\n",
    "X_train, X_test, y_train, y_test = train_test_split(X, y, test_size=0.3, random_state=42)\n",
    "#Normalize your values for the model\n",
    "scaler = StandardScaler()\n",
    "scaler.fit(X_train)\n",
    "X_train_std = scaler.transform(X_train)\n",
    "X_test_std = scaler.transform(X_test)\n",
    "#Apply your best model!\n",
    "lgbm = LGBMClassifier(max_depth=3, n_estimators=10, learning_rate=0.1, colsample_bytree=.7, n_jobs=-1)\n",
    "lgbm.fit(X_train, y_train)\n",
    "#SEE YOUR SCORE!\n",
    "print('ROC_AUC_SCORE TRAIN IS:  ', roc_auc_score(y_train, lgbm.predict_proba(X_train)[:,1]))\n",
    "print('ROC_AUC_SCORE TEST IS:  ', roc_auc_score(y_test, lgbm.predict_proba(X_test)[:,1]))"
   ]
  },
  {
   "cell_type": "code",
   "execution_count": null,
   "metadata": {
    "ExecuteTime": {
     "end_time": "2021-05-10T19:04:26.674957Z",
     "start_time": "2021-05-10T19:04:12.932Z"
    }
   },
   "outputs": [],
   "source": [
    "Darwin = dfs['Darwin']\n",
    "X = Darwin[['mintemp', 'maxtemp', 'rainfall', 'evaporation', 'sunshine', 'humidity9am', 'humidity3pm', 'pressure9am',\n",
    "       'pressure3pm', 'cloud9am', 'cloud3pm', 'raintoday', 'precipitation3pm', 'precipitation9am',\n",
    "       'wind_gustdir', 'wind_gustspeed', 'wind_dir9am', 'wind_dir3pm', 'wind_speed9am', 'wind_speed3pm']]\n",
    "y = Darwin['raintomorrow']\n",
    "#Split test and train\n",
    "X_train, X_test, y_train, y_test = train_test_split(X, y, test_size=0.2, random_state=42)\n",
    "#Normalize your values for the model\n",
    "scaler = StandardScaler()\n",
    "scaler.fit(X_train)\n",
    "X_train_std = scaler.transform(X_train)\n",
    "X_test_std = scaler.transform(X_test)\n",
    "#Apply your best model!\n",
    "lgbm = LGBMClassifier(max_depth=3, n_estimators=10, learning_rate=0.1, colsample_bytree=.7, n_jobs=-1)\n",
    "lgbm.fit(X_train, y_train)\n",
    "#SEE YOUR SCORE!\n",
    "print('ROC_AUC_SCORE TRAIN IS:  ', roc_auc_score(y_train, lgbm.predict_proba(X_train)[:,1]))\n",
    "print('ROC_AUC_SCORE TEST IS:  ', roc_auc_score(y_test, lgbm.predict_proba(X_test)[:,1]))"
   ]
  },
  {
   "cell_type": "code",
   "execution_count": null,
   "metadata": {
    "ExecuteTime": {
     "end_time": "2021-05-10T19:04:26.676538Z",
     "start_time": "2021-05-10T19:04:12.940Z"
    }
   },
   "outputs": [],
   "source": [
    "GoldCoast = dfs['GoldCoast']\n",
    "X = GoldCoast[['mintemp', 'maxtemp', 'rainfall', 'evaporation', 'sunshine', 'humidity9am', 'humidity3pm', 'pressure9am',\n",
    "       'pressure3pm', 'cloud9am', 'cloud3pm', 'raintoday', 'precipitation3pm', 'precipitation9am',\n",
    "       'wind_gustdir', 'wind_gustspeed', 'wind_dir9am', 'wind_dir3pm', 'wind_speed9am', 'wind_speed3pm']]\n",
    "y = GoldCoast['raintomorrow']\n",
    "#Split test and train\n",
    "X_train, X_test, y_train, y_test = train_test_split(X, y, test_size=0.3, random_state=42)\n",
    "#Normalize your values for the model\n",
    "scaler = StandardScaler()\n",
    "scaler.fit(X_train)\n",
    "X_train_std = scaler.transform(X_train)\n",
    "X_test_std = scaler.transform(X_test)\n",
    "#Apply your best model!\n",
    "lgbm = LGBMClassifier(max_depth=3, n_estimators=10, learning_rate=0.1, colsample_bytree=.7, n_jobs=-1)\n",
    "lgbm.fit(X_train, y_train)\n",
    "#SEE YOUR SCORE!\n",
    "print('ROC_AUC_SCORE TRAIN IS:  ', roc_auc_score(y_train, lgbm.predict_proba(X_train)[:,1]))\n",
    "print('ROC_AUC_SCORE TEST IS:  ', roc_auc_score(y_test, lgbm.predict_proba(X_test)[:,1]))"
   ]
  },
  {
   "cell_type": "code",
   "execution_count": null,
   "metadata": {
    "ExecuteTime": {
     "end_time": "2021-05-10T19:04:26.676538Z",
     "start_time": "2021-05-10T19:04:12.950Z"
    }
   },
   "outputs": [],
   "source": [
    "Hobart = dfs['Hobart']\n",
    "X = Hobart[['mintemp', 'maxtemp', 'rainfall', 'evaporation', 'sunshine', 'humidity9am', 'humidity3pm', 'pressure9am',\n",
    "       'pressure3pm', 'cloud9am', 'cloud3pm', 'raintoday', 'precipitation3pm', 'precipitation9am',\n",
    "       'wind_gustdir', 'wind_gustspeed', 'wind_dir9am', 'wind_dir3pm', 'wind_speed9am', 'wind_speed3pm']]\n",
    "y = Hobart['raintomorrow']\n",
    "#Split test and train\n",
    "X_train, X_test, y_train, y_test = train_test_split(X, y, test_size=0.2, random_state=42)\n",
    "#Normalize your values for the model\n",
    "scaler = StandardScaler()\n",
    "scaler.fit(X_train)\n",
    "X_train_std = scaler.transform(X_train)\n",
    "X_test_std = scaler.transform(X_test)\n",
    "#Apply your best model!\n",
    "lgbm = LGBMClassifier(max_depth=2, n_estimators=10, learning_rate=0.1, colsample_bytree=.7, n_jobs=-1)\n",
    "lgbm.fit(X_train, y_train)\n",
    "#SEE YOUR SCORE!\n",
    "print('ROC_AUC_SCORE TRAIN IS:  ', roc_auc_score(y_train, lgbm.predict_proba(X_train)[:,1]))\n",
    "print('ROC_AUC_SCORE TEST IS:  ', roc_auc_score(y_test, lgbm.predict_proba(X_test)[:,1]))"
   ]
  },
  {
   "cell_type": "code",
   "execution_count": null,
   "metadata": {
    "ExecuteTime": {
     "end_time": "2021-05-10T19:04:26.677541Z",
     "start_time": "2021-05-10T19:04:12.956Z"
    }
   },
   "outputs": [],
   "source": [
    "Katherine = dfs['Katherine']\n",
    "X = Katherine[['mintemp', 'maxtemp', 'rainfall', 'evaporation', 'sunshine', 'humidity9am', 'humidity3pm', 'pressure9am',\n",
    "       'pressure3pm', 'cloud9am', 'cloud3pm', 'raintoday', 'precipitation3pm', 'precipitation9am',\n",
    "       'wind_gustdir', 'wind_gustspeed', 'wind_dir9am', 'wind_dir3pm', 'wind_speed9am', 'wind_speed3pm']]\n",
    "y = Katherine['raintomorrow']\n",
    "#Split test and train\n",
    "X_train, X_test, y_train, y_test = train_test_split(X, y, test_size=0.3, random_state=42)\n",
    "#Normalize your values for the model\n",
    "scaler = StandardScaler()\n",
    "scaler.fit(X_train)\n",
    "X_train_std = scaler.transform(X_train)\n",
    "X_test_std = scaler.transform(X_test)\n",
    "#Apply your best model!\n",
    "lgbm = LGBMClassifier(max_depth=4, n_estimators=5, learning_rate=0.1, colsample_bytree=.7, n_jobs=-1)\n",
    "lgbm.fit(X_train, y_train)\n",
    "#SEE YOUR SCORE!\n",
    "print('ROC_AUC_SCORE TRAIN IS:  ', roc_auc_score(y_train, lgbm.predict_proba(X_train)[:,1]))\n",
    "print('ROC_AUC_SCORE TEST IS:  ', roc_auc_score(y_test, lgbm.predict_proba(X_test)[:,1]))"
   ]
  },
  {
   "cell_type": "code",
   "execution_count": null,
   "metadata": {
    "ExecuteTime": {
     "end_time": "2021-05-10T19:04:26.678545Z",
     "start_time": "2021-05-10T19:04:12.961Z"
    }
   },
   "outputs": [],
   "source": [
    "Launceston = dfs['Launceston']\n",
    "X = Launceston[['mintemp', 'maxtemp', 'rainfall', 'evaporation', 'sunshine', 'humidity9am', 'humidity3pm', 'pressure9am',\n",
    "       'pressure3pm', 'cloud9am', 'cloud3pm', 'raintoday', 'precipitation3pm', 'precipitation9am',\n",
    "       'wind_gustdir', 'wind_gustspeed', 'wind_dir9am', 'wind_dir3pm', 'wind_speed9am', 'wind_speed3pm']]\n",
    "y = Launceston['raintomorrow']\n",
    "#Split test and train\n",
    "X_train, X_test, y_train, y_test = train_test_split(X, y, test_size=0.2, random_state=42)\n",
    "#Normalize your values for the model\n",
    "scaler = StandardScaler()\n",
    "scaler.fit(X_train)\n",
    "X_train_std = scaler.transform(X_train)\n",
    "X_test_std = scaler.transform(X_test)\n",
    "#Apply your best model!\n",
    "lgbm = LGBMClassifier(max_depth=3, n_estimators=10, learning_rate=0.1, colsample_bytree=.7, n_jobs=-1)\n",
    "lgbm.fit(X_train, y_train)\n",
    "#SEE YOUR SCORE!\n",
    "print('ROC_AUC_SCORE TRAIN IS:  ', roc_auc_score(y_train, lgbm.predict_proba(X_train)[:,1]))\n",
    "print('ROC_AUC_SCORE TEST IS:  ', roc_auc_score(y_test, lgbm.predict_proba(X_test)[:,1]))"
   ]
  },
  {
   "cell_type": "code",
   "execution_count": null,
   "metadata": {
    "ExecuteTime": {
     "end_time": "2021-05-10T19:04:26.680525Z",
     "start_time": "2021-05-10T19:04:12.966Z"
    }
   },
   "outputs": [],
   "source": [
    "Melbourne = dfs['Melbourne']\n",
    "X = Melbourne[['mintemp', 'maxtemp', 'rainfall', 'evaporation', 'sunshine', 'humidity9am', 'humidity3pm', 'pressure9am',\n",
    "       'pressure3pm', 'cloud9am', 'cloud3pm', 'raintoday', 'precipitation3pm', 'precipitation9am',\n",
    "       'wind_gustdir', 'wind_gustspeed', 'wind_dir9am', 'wind_dir3pm', 'wind_speed9am', 'wind_speed3pm']]\n",
    "y = Melbourne['raintomorrow']\n",
    "#Split test and train\n",
    "X_train, X_test, y_train, y_test = train_test_split(X, y, test_size=0.2, random_state=42)\n",
    "#Normalize your values for the model\n",
    "scaler = StandardScaler()\n",
    "scaler.fit(X_train)\n",
    "X_train_std = scaler.transform(X_train)\n",
    "X_test_std = scaler.transform(X_test)\n",
    "#Apply your best model!\n",
    "lgbm = LGBMClassifier(max_depth=3, n_estimators=10, learning_rate=0.2, colsample_bytree=.7, n_jobs=-1)\n",
    "lgbm.fit(X_train, y_train)\n",
    "#SEE YOUR SCORE!\n",
    "print('ROC_AUC_SCORE TRAIN IS:  ', roc_auc_score(y_train, lgbm.predict_proba(X_train)[:,1]))\n",
    "print('ROC_AUC_SCORE TEST IS:  ', roc_auc_score(y_test, lgbm.predict_proba(X_test)[:,1]))"
   ]
  },
  {
   "cell_type": "code",
   "execution_count": null,
   "metadata": {
    "ExecuteTime": {
     "end_time": "2021-05-10T19:04:26.681522Z",
     "start_time": "2021-05-10T19:04:12.971Z"
    }
   },
   "outputs": [],
   "source": [
    "MelbourneAirport = dfs['MelbourneAirport']\n",
    "X = MelbourneAirport[['mintemp', 'maxtemp', 'rainfall', 'evaporation', 'sunshine', 'humidity9am', 'humidity3pm', 'pressure9am',\n",
    "       'pressure3pm', 'cloud9am', 'cloud3pm', 'raintoday', 'precipitation3pm', 'precipitation9am',\n",
    "       'wind_gustdir', 'wind_gustspeed', 'wind_dir9am', 'wind_dir3pm', 'wind_speed9am', 'wind_speed3pm']]\n",
    "y = MelbourneAirport['raintomorrow']\n",
    "#Split test and train\n",
    "X_train, X_test, y_train, y_test = train_test_split(X, y, test_size=0.2, random_state=42)\n",
    "#Normalize your values for the model\n",
    "scaler = StandardScaler()\n",
    "scaler.fit(X_train)\n",
    "X_train_std = scaler.transform(X_train)\n",
    "X_test_std = scaler.transform(X_test)\n",
    "#Apply your best model!\n",
    "lgbm = LGBMClassifier(max_depth=3, n_estimators=10, learning_rate=0.1, colsample_bytree=.7, n_jobs=-1)\n",
    "lgbm.fit(X_train, y_train)\n",
    "#SEE YOUR SCORE!\n",
    "print('ROC_AUC_SCORE TRAIN IS:  ', roc_auc_score(y_train, lgbm.predict_proba(X_train)[:,1]))\n",
    "print('ROC_AUC_SCORE TEST IS:  ', roc_auc_score(y_test, lgbm.predict_proba(X_test)[:,1]))"
   ]
  },
  {
   "cell_type": "code",
   "execution_count": null,
   "metadata": {
    "ExecuteTime": {
     "end_time": "2021-05-10T19:04:26.682519Z",
     "start_time": "2021-05-10T19:04:12.977Z"
    }
   },
   "outputs": [],
   "source": [
    "Mildura = dfs['Mildura']\n",
    "X = Mildura[['mintemp', 'maxtemp', 'rainfall', 'evaporation', 'sunshine', 'humidity9am', 'humidity3pm', 'pressure9am',\n",
    "       'pressure3pm', 'cloud9am', 'cloud3pm', 'raintoday', 'precipitation3pm', 'precipitation9am',\n",
    "       'wind_gustdir', 'wind_gustspeed', 'wind_dir9am', 'wind_dir3pm', 'wind_speed9am', 'wind_speed3pm']]\n",
    "y = Mildura['raintomorrow']\n",
    "#Split test and train\n",
    "X_train, X_test, y_train, y_test = train_test_split(X, y, test_size=0.2, random_state=42)\n",
    "#Normalize your values for the model\n",
    "scaler = StandardScaler()\n",
    "scaler.fit(X_train)\n",
    "X_train_std = scaler.transform(X_train)\n",
    "X_test_std = scaler.transform(X_test)\n",
    "#Apply your best model!\n",
    "lgbm = LGBMClassifier(max_depth=3, n_estimators=5, learning_rate=0.1, colsample_bytree=.7, n_jobs=-1)\n",
    "lgbm.fit(X_train, y_train)\n",
    "#SEE YOUR SCORE!\n",
    "print('ROC_AUC_SCORE TRAIN IS:  ', roc_auc_score(y_train, lgbm.predict_proba(X_train)[:,1]))\n",
    "print('ROC_AUC_SCORE TEST IS:  ', roc_auc_score(y_test, lgbm.predict_proba(X_test)[:,1]))"
   ]
  },
  {
   "cell_type": "code",
   "execution_count": null,
   "metadata": {
    "ExecuteTime": {
     "end_time": "2021-05-10T19:04:26.683517Z",
     "start_time": "2021-05-10T19:04:12.985Z"
    }
   },
   "outputs": [],
   "source": [
    "More = dfs['Moree']\n",
    "X = More[['mintemp', 'maxtemp', 'rainfall', 'evaporation', 'sunshine', 'humidity9am', 'humidity3pm', 'pressure9am',\n",
    "       'pressure3pm', 'cloud9am', 'cloud3pm', 'raintoday', 'precipitation3pm', 'precipitation9am',\n",
    "       'wind_gustdir', 'wind_gustspeed', 'wind_dir9am', 'wind_dir3pm', 'wind_speed9am', 'wind_speed3pm']]\n",
    "y = More['raintomorrow']\n",
    "#Split test and train\n",
    "X_train, X_test, y_train, y_test = train_test_split(X, y, test_size=0.2, random_state=42)\n",
    "#Normalize your values for the model\n",
    "scaler = StandardScaler()\n",
    "scaler.fit(X_train)\n",
    "X_train_std = scaler.transform(X_train)\n",
    "X_test_std = scaler.transform(X_test)\n",
    "#Apply your best model!\n",
    "lgbm = LGBMClassifier(max_depth=3, n_estimators=10, learning_rate=0.1, colsample_bytree=.7, n_jobs=-1)\n",
    "lgbm.fit(X_train, y_train)\n",
    "#SEE YOUR SCORE!\n",
    "print('ROC_AUC_SCORE TRAIN IS:  ', roc_auc_score(y_train, lgbm.predict_proba(X_train)[:,1]))\n",
    "print('ROC_AUC_SCORE TEST IS:  ', roc_auc_score(y_test, lgbm.predict_proba(X_test)[:,1]))"
   ]
  },
  {
   "cell_type": "code",
   "execution_count": null,
   "metadata": {
    "ExecuteTime": {
     "end_time": "2021-05-10T19:04:26.684513Z",
     "start_time": "2021-05-10T19:04:12.989Z"
    }
   },
   "outputs": [],
   "source": [
    "MountGambier = dfs['MountGambier']\n",
    "X = MountGambier[['mintemp', 'maxtemp', 'rainfall', 'evaporation', 'sunshine', 'humidity9am', 'humidity3pm', 'pressure9am',\n",
    "       'pressure3pm', 'cloud9am', 'cloud3pm', 'raintoday', 'precipitation3pm', 'precipitation9am',\n",
    "       'wind_gustdir', 'wind_gustspeed', 'wind_dir9am', 'wind_dir3pm', 'wind_speed9am', 'wind_speed3pm']]\n",
    "y = MountGambier['raintomorrow']\n",
    "#Split test and train\n",
    "X_train, X_test, y_train, y_test = train_test_split(X, y, test_size=0.2, random_state=42)\n",
    "#Normalize your values for the model\n",
    "scaler = StandardScaler()\n",
    "scaler.fit(X_train)\n",
    "X_train_std = scaler.transform(X_train)\n",
    "X_test_std = scaler.transform(X_test)\n",
    "#Apply your best model!\n",
    "lgbm = LGBMClassifier(max_depth=3, n_estimators=10, learning_rate=0.1, colsample_bytree=.7, n_jobs=-1)\n",
    "lgbm.fit(X_train, y_train)\n",
    "#SEE YOUR SCORE!\n",
    "print('ROC_AUC_SCORE TRAIN IS:  ', roc_auc_score(y_train, lgbm.predict_proba(X_train)[:,1]))\n",
    "print('ROC_AUC_SCORE TEST IS:  ', roc_auc_score(y_test, lgbm.predict_proba(X_test)[:,1]))"
   ]
  },
  {
   "cell_type": "code",
   "execution_count": null,
   "metadata": {
    "ExecuteTime": {
     "end_time": "2021-05-10T19:04:26.686509Z",
     "start_time": "2021-05-10T19:04:12.993Z"
    }
   },
   "outputs": [],
   "source": [
    "MountGinini = dfs['MountGinini']\n",
    "X = MountGinini[['mintemp', 'maxtemp', 'rainfall', 'evaporation', 'sunshine', 'humidity9am', 'humidity3pm', 'pressure9am',\n",
    "       'pressure3pm', 'cloud9am', 'cloud3pm', 'raintoday', 'precipitation3pm', 'precipitation9am',\n",
    "       'wind_gustdir', 'wind_gustspeed', 'wind_dir9am', 'wind_dir3pm', 'wind_speed9am', 'wind_speed3pm']]\n",
    "y = MountGinini['raintomorrow']\n",
    "#Split test and train\n",
    "X_train, X_test, y_train, y_test = train_test_split(X, y, test_size=0.2, random_state=42)\n",
    "#Normalize your values for the model\n",
    "scaler = StandardScaler()\n",
    "scaler.fit(X_train)\n",
    "X_train_std = scaler.transform(X_train)\n",
    "X_test_std = scaler.transform(X_test)\n",
    "#Apply your best model!\n",
    "lgbm = LGBMClassifier(max_depth=3, n_estimators=10, learning_rate=0.1, colsample_bytree=.7, n_jobs=-1)\n",
    "lgbm.fit(X_train, y_train)\n",
    "#SEE YOUR SCORE!\n",
    "print('ROC_AUC_SCORE TRAIN IS:  ', roc_auc_score(y_train, lgbm.predict_proba(X_train)[:,1]))\n",
    "print('ROC_AUC_SCORE TEST IS:  ', roc_auc_score(y_test, lgbm.predict_proba(X_test)[:,1]))"
   ]
  },
  {
   "cell_type": "code",
   "execution_count": null,
   "metadata": {
    "ExecuteTime": {
     "end_time": "2021-05-10T19:04:26.689504Z",
     "start_time": "2021-05-10T19:04:13.000Z"
    }
   },
   "outputs": [],
   "source": [
    "Newcastle = dfs['Newcastle']\n",
    "X = Newcastle[['mintemp', 'maxtemp', 'rainfall', 'evaporation', 'sunshine', 'humidity9am', 'humidity3pm', 'pressure9am',\n",
    "       'pressure3pm', 'cloud9am', 'cloud3pm', 'raintoday', 'precipitation3pm', 'precipitation9am',\n",
    "       'wind_gustdir', 'wind_gustspeed', 'wind_dir9am', 'wind_dir3pm', 'wind_speed9am', 'wind_speed3pm']]\n",
    "y = Newcastle['raintomorrow']\n",
    "#Split test and train\n",
    "X_train, X_test, y_train, y_test = train_test_split(X, y, test_size=0.4, random_state=42)\n",
    "#Normalize your values for the model\n",
    "scaler = StandardScaler()\n",
    "scaler.fit(X_train)\n",
    "X_train_std = scaler.transform(X_train)\n",
    "X_test_std = scaler.transform(X_test)\n",
    "#Apply your best model!\n",
    "lgbm = LGBMClassifier(max_depth=3, n_estimators=10, learning_rate=0.2, colsample_bytree=.7, n_jobs=-1)\n",
    "lgbm.fit(X_train, y_train)\n",
    "#SEE YOUR SCORE!\n",
    "print('ROC_AUC_SCORE TRAIN IS:  ', roc_auc_score(y_train, lgbm.predict_proba(X_train)[:,1]))\n",
    "print('ROC_AUC_SCORE TEST IS:  ', roc_auc_score(y_test, lgbm.predict_proba(X_test)[:,1]))"
   ]
  },
  {
   "cell_type": "code",
   "execution_count": null,
   "metadata": {
    "ExecuteTime": {
     "end_time": "2021-05-10T19:04:26.690498Z",
     "start_time": "2021-05-10T19:04:13.005Z"
    }
   },
   "outputs": [],
   "source": [
    "Nhil = dfs['Nhil']\n",
    "X = Nhil[['mintemp', 'maxtemp', 'rainfall', 'evaporation', 'sunshine', 'humidity9am', 'humidity3pm', 'pressure9am',\n",
    "       'pressure3pm', 'cloud9am', 'cloud3pm', 'raintoday', 'precipitation3pm', 'precipitation9am',\n",
    "       'wind_gustdir', 'wind_gustspeed', 'wind_dir9am', 'wind_dir3pm', 'wind_speed9am', 'wind_speed3pm']]\n",
    "y = Nhil['raintomorrow']\n",
    "#Split test and train\n",
    "X_train, X_test, y_train, y_test = train_test_split(X, y, test_size=0.3, random_state=42)\n",
    "#Normalize your values for the model\n",
    "scaler = StandardScaler()\n",
    "scaler.fit(X_train)\n",
    "X_train_std = scaler.transform(X_train)\n",
    "X_test_std = scaler.transform(X_test)\n",
    "#Apply your best model!\n",
    "lgbm = LGBMClassifier(max_depth=3, n_estimators=10, learning_rate=0.1, colsample_bytree=.7, n_jobs=-1)\n",
    "lgbm.fit(X_train, y_train)\n",
    "#SEE YOUR SCORE!\n",
    "print('ROC_AUC_SCORE TRAIN IS:  ', roc_auc_score(y_train, lgbm.predict_proba(X_train)[:,1]))\n",
    "print('ROC_AUC_SCORE TEST IS:  ', roc_auc_score(y_test, lgbm.predict_proba(X_test)[:,1]))"
   ]
  },
  {
   "cell_type": "code",
   "execution_count": null,
   "metadata": {
    "ExecuteTime": {
     "end_time": "2021-05-10T19:04:26.691497Z",
     "start_time": "2021-05-10T19:04:13.011Z"
    }
   },
   "outputs": [],
   "source": [
    "NorahHead = dfs['NorahHead']\n",
    "X = NorahHead[['mintemp', 'maxtemp', 'rainfall', 'evaporation', 'sunshine', 'humidity9am', 'humidity3pm', 'pressure9am',\n",
    "       'pressure3pm', 'cloud9am', 'cloud3pm', 'raintoday', 'precipitation3pm', 'precipitation9am',\n",
    "       'wind_gustdir', 'wind_gustspeed', 'wind_dir9am', 'wind_dir3pm', 'wind_speed9am', 'wind_speed3pm']]\n",
    "y = NorahHead['raintomorrow']\n",
    "#Split test and train\n",
    "X_train, X_test, y_train, y_test = train_test_split(X, y, test_size=0.2, random_state=42)\n",
    "#Normalize your values for the model\n",
    "scaler = StandardScaler()\n",
    "scaler.fit(X_train)\n",
    "X_train_std = scaler.transform(X_train)\n",
    "X_test_std = scaler.transform(X_test)\n",
    "#Apply your best model!\n",
    "lgbm = LGBMClassifier(max_depth=3, n_estimators=10, learning_rate=0.1, colsample_bytree=.7, n_jobs=-1)\n",
    "lgbm.fit(X_train, y_train)\n",
    "#SEE YOUR SCORE!\n",
    "print('ROC_AUC_SCORE TRAIN IS:  ', roc_auc_score(y_train, lgbm.predict_proba(X_train)[:,1]))\n",
    "print('ROC_AUC_SCORE TEST IS:  ', roc_auc_score(y_test, lgbm.predict_proba(X_test)[:,1]))"
   ]
  },
  {
   "cell_type": "code",
   "execution_count": null,
   "metadata": {
    "ExecuteTime": {
     "end_time": "2021-05-10T19:04:26.692495Z",
     "start_time": "2021-05-10T19:04:13.019Z"
    }
   },
   "outputs": [],
   "source": [
    "NorfolkIsland = dfs['NorfolkIsland']\n",
    "X = NorfolkIsland[['mintemp', 'maxtemp', 'rainfall', 'evaporation', 'sunshine', 'humidity9am', 'humidity3pm', 'pressure9am',\n",
    "       'pressure3pm', 'cloud9am', 'cloud3pm', 'raintoday', 'precipitation3pm', 'precipitation9am',\n",
    "       'wind_gustdir', 'wind_gustspeed', 'wind_dir9am', 'wind_dir3pm', 'wind_speed9am', 'wind_speed3pm']]\n",
    "y = NorfolkIsland['raintomorrow']\n",
    "#Split test and train\n",
    "X_train, X_test, y_train, y_test = train_test_split(X, y, test_size=0.2, random_state=42)\n",
    "#Normalize your values for the model\n",
    "scaler = StandardScaler()\n",
    "scaler.fit(X_train)\n",
    "X_train_std = scaler.transform(X_train)\n",
    "X_test_std = scaler.transform(X_test)\n",
    "#Apply your best model!\n",
    "lgbm = LGBMClassifier(max_depth=3, n_estimators=10, learning_rate=0.1, colsample_bytree=.7, n_jobs=-1)\n",
    "lgbm.fit(X_train, y_train)\n",
    "#SEE YOUR SCORE!\n",
    "print('ROC_AUC_SCORE TRAIN IS:  ', roc_auc_score(y_train, lgbm.predict_proba(X_train)[:,1]))\n",
    "print('ROC_AUC_SCORE TEST IS:  ', roc_auc_score(y_test, lgbm.predict_proba(X_test)[:,1]))"
   ]
  },
  {
   "cell_type": "code",
   "execution_count": null,
   "metadata": {
    "ExecuteTime": {
     "end_time": "2021-05-10T19:04:26.693492Z",
     "start_time": "2021-05-10T19:04:13.023Z"
    }
   },
   "outputs": [],
   "source": [
    "Nuriootpa = dfs['Nuriootpa']\n",
    "X = Nuriootpa[['mintemp', 'maxtemp', 'rainfall', 'evaporation', 'sunshine', 'humidity9am', 'humidity3pm', 'pressure9am',\n",
    "       'pressure3pm', 'cloud9am', 'cloud3pm', 'raintoday', 'precipitation3pm', 'precipitation9am',\n",
    "       'wind_gustdir', 'wind_gustspeed', 'wind_dir9am', 'wind_dir3pm', 'wind_speed9am', 'wind_speed3pm']]\n",
    "y = Nuriootpa['raintomorrow']\n",
    "#Split test and train\n",
    "X_train, X_test, y_train, y_test = train_test_split(X, y, test_size=0.3, random_state=42)\n",
    "#Normalize your values for the model\n",
    "scaler = StandardScaler()\n",
    "scaler.fit(X_train)\n",
    "X_train_std = scaler.transform(X_train)\n",
    "X_test_std = scaler.transform(X_test)\n",
    "#Apply your best model!\n",
    "lgbm = LGBMClassifier(max_depth=3, n_estimators=10, learning_rate=0.1, colsample_bytree=.7, n_jobs=-1)\n",
    "lgbm.fit(X_train, y_train)\n",
    "#SEE YOUR SCORE!\n",
    "print('ROC_AUC_SCORE TRAIN IS:  ', roc_auc_score(y_train, lgbm.predict_proba(X_train)[:,1]))\n",
    "print('ROC_AUC_SCORE TEST IS:  ', roc_auc_score(y_test, lgbm.predict_proba(X_test)[:,1]))"
   ]
  },
  {
   "cell_type": "code",
   "execution_count": null,
   "metadata": {
    "ExecuteTime": {
     "end_time": "2021-05-10T19:04:26.694489Z",
     "start_time": "2021-05-10T19:04:13.026Z"
    }
   },
   "outputs": [],
   "source": [
    "PearceRAAF = dfs['PearceRAAF']\n",
    "X = PearceRAAF[['mintemp', 'maxtemp', 'rainfall', 'evaporation', 'sunshine', 'humidity9am', 'humidity3pm', 'pressure9am',\n",
    "       'pressure3pm', 'cloud9am', 'cloud3pm', 'raintoday', 'precipitation3pm', 'precipitation9am',\n",
    "       'wind_gustdir', 'wind_gustspeed', 'wind_dir9am', 'wind_dir3pm', 'wind_speed9am', 'wind_speed3pm']]\n",
    "y = PearceRAAF['raintomorrow']\n",
    "#Split test and train\n",
    "X_train, X_test, y_train, y_test = train_test_split(X, y, test_size=0.3, random_state=42)\n",
    "#Normalize your values for the model\n",
    "scaler = StandardScaler()\n",
    "scaler.fit(X_train)\n",
    "X_train_std = scaler.transform(X_train)\n",
    "X_test_std = scaler.transform(X_test)\n",
    "#Apply your best model!\n",
    "lgbm = LGBMClassifier(max_depth=3, n_estimators=10, learning_rate=0.1, colsample_bytree=.7, n_jobs=-1)\n",
    "lgbm.fit(X_train, y_train)\n",
    "#SEE YOUR SCORE!\n",
    "print('ROC_AUC_SCORE TRAIN IS:  ', roc_auc_score(y_train, lgbm.predict_proba(X_train)[:,1]))\n",
    "print('ROC_AUC_SCORE TEST IS:  ', roc_auc_score(y_test, lgbm.predict_proba(X_test)[:,1]))"
   ]
  },
  {
   "cell_type": "code",
   "execution_count": null,
   "metadata": {
    "ExecuteTime": {
     "end_time": "2021-05-10T19:04:26.696482Z",
     "start_time": "2021-05-10T19:04:13.033Z"
    }
   },
   "outputs": [],
   "source": [
    "Penrith = dfs['Penrith']\n",
    "X = Penrith[['mintemp', 'maxtemp', 'rainfall', 'evaporation', 'sunshine', 'humidity9am', 'humidity3pm', 'pressure9am',\n",
    "       'pressure3pm', 'cloud9am', 'cloud3pm', 'raintoday', 'precipitation3pm', 'precipitation9am',\n",
    "       'wind_gustdir', 'wind_gustspeed', 'wind_dir9am', 'wind_dir3pm', 'wind_speed9am', 'wind_speed3pm']]\n",
    "y = Penrith['raintomorrow']\n",
    "#Split test and train\n",
    "X_train, X_test, y_train, y_test = train_test_split(X, y, test_size=0.2, random_state=42)\n",
    "#Normalize your values for the model\n",
    "scaler = StandardScaler()\n",
    "scaler.fit(X_train)\n",
    "X_train_std = scaler.transform(X_train)\n",
    "X_test_std = scaler.transform(X_test)\n",
    "#Apply your best model!\n",
    "lgbm = LGBMClassifier(max_depth=3, n_estimators=10, learning_rate=0.1, colsample_bytree=.7, n_jobs=-1)\n",
    "lgbm.fit(X_train, y_train)\n",
    "#SEE YOUR SCORE!\n",
    "print('ROC_AUC_SCORE TRAIN IS:  ', roc_auc_score(y_train, lgbm.predict_proba(X_train)[:,1]))\n",
    "print('ROC_AUC_SCORE TEST IS:  ', roc_auc_score(y_test, lgbm.predict_proba(X_test)[:,1]))"
   ]
  },
  {
   "cell_type": "code",
   "execution_count": null,
   "metadata": {
    "ExecuteTime": {
     "end_time": "2021-05-10T19:04:26.699477Z",
     "start_time": "2021-05-10T19:04:13.037Z"
    }
   },
   "outputs": [],
   "source": [
    "Perth = dfs['Perth']\n",
    "X = Perth[['mintemp', 'maxtemp', 'rainfall', 'evaporation', 'sunshine', 'humidity9am', 'humidity3pm', 'pressure9am',\n",
    "       'pressure3pm', 'cloud9am', 'cloud3pm', 'raintoday', 'precipitation3pm', 'precipitation9am',\n",
    "       'wind_gustdir', 'wind_gustspeed', 'wind_dir9am', 'wind_dir3pm', 'wind_speed9am', 'wind_speed3pm']]\n",
    "y = Perth['raintomorrow']\n",
    "#Split test and train\n",
    "X_train, X_test, y_train, y_test = train_test_split(X, y, test_size=0.2, random_state=42)\n",
    "#Normalize your values for the model\n",
    "scaler = StandardScaler()\n",
    "scaler.fit(X_train)\n",
    "X_train_std = scaler.transform(X_train)\n",
    "X_test_std = scaler.transform(X_test)\n",
    "#Apply your best model!\n",
    "lgbm = LGBMClassifier(max_depth=3, n_estimators=10, learning_rate=0.1, colsample_bytree=.7, n_jobs=-1)\n",
    "lgbm.fit(X_train, y_train)\n",
    "#SEE YOUR SCORE!\n",
    "print('ROC_AUC_SCORE TRAIN IS:  ', roc_auc_score(y_train, lgbm.predict_proba(X_train)[:,1]))\n",
    "print('ROC_AUC_SCORE TEST IS:  ', roc_auc_score(y_test, lgbm.predict_proba(X_test)[:,1]))"
   ]
  },
  {
   "cell_type": "code",
   "execution_count": null,
   "metadata": {
    "ExecuteTime": {
     "end_time": "2021-05-10T19:04:26.702468Z",
     "start_time": "2021-05-10T19:04:13.042Z"
    }
   },
   "outputs": [],
   "source": [
    "PerthAirport = dfs['PerthAirport']\n",
    "X = PerthAirport[['mintemp', 'maxtemp', 'rainfall', 'evaporation', 'sunshine', 'humidity9am', 'humidity3pm', 'pressure9am',\n",
    "       'pressure3pm', 'cloud9am', 'cloud3pm', 'raintoday', 'precipitation3pm', 'precipitation9am',\n",
    "       'wind_gustdir', 'wind_gustspeed', 'wind_dir9am', 'wind_dir3pm', 'wind_speed9am', 'wind_speed3pm']]\n",
    "y = PerthAirport['raintomorrow']\n",
    "#Split test and train\n",
    "X_train, X_test, y_train, y_test = train_test_split(X, y, test_size=0.2, random_state=42)\n",
    "#Normalize your values for the model\n",
    "scaler = StandardScaler()\n",
    "scaler.fit(X_train)\n",
    "X_train_std = scaler.transform(X_train)\n",
    "X_test_std = scaler.transform(X_test)\n",
    "#Apply your best model!\n",
    "lgbm = LGBMClassifier(max_depth=3, n_estimators=10, learning_rate=0.1, colsample_bytree=.7, n_jobs=-1)\n",
    "lgbm.fit(X_train, y_train)\n",
    "#SEE YOUR SCORE!\n",
    "print('ROC_AUC_SCORE TRAIN IS:  ', roc_auc_score(y_train, lgbm.predict_proba(X_train)[:,1]))\n",
    "print('ROC_AUC_SCORE TEST IS:  ', roc_auc_score(y_test, lgbm.predict_proba(X_test)[:,1]))"
   ]
  },
  {
   "cell_type": "code",
   "execution_count": null,
   "metadata": {
    "ExecuteTime": {
     "end_time": "2021-05-10T19:04:26.704462Z",
     "start_time": "2021-05-10T19:04:13.045Z"
    }
   },
   "outputs": [],
   "source": [
    "Portland = dfs['Portland']\n",
    "X = Portland[['mintemp', 'maxtemp', 'rainfall', 'evaporation', 'sunshine', 'humidity9am', 'humidity3pm', 'pressure9am',\n",
    "       'pressure3pm', 'cloud9am', 'cloud3pm', 'raintoday', 'precipitation3pm', 'precipitation9am',\n",
    "       'wind_gustdir', 'wind_gustspeed', 'wind_dir9am', 'wind_dir3pm', 'wind_speed9am', 'wind_speed3pm']]\n",
    "y = Portland['raintomorrow']\n",
    "#Split test and train\n",
    "X_train, X_test, y_train, y_test = train_test_split(X, y, test_size=0.2, random_state=42)\n",
    "#Normalize your values for the model\n",
    "scaler = StandardScaler()\n",
    "scaler.fit(X_train)\n",
    "X_train_std = scaler.transform(X_train)\n",
    "X_test_std = scaler.transform(X_test)\n",
    "#Apply your best model!\n",
    "lgbm = LGBMClassifier(max_depth=3, n_estimators=10, learning_rate=0.1, colsample_bytree=.7, n_jobs=-1)\n",
    "lgbm.fit(X_train, y_train)\n",
    "#SEE YOUR SCORE!\n",
    "print('ROC_AUC_SCORE TRAIN IS:  ', roc_auc_score(y_train, lgbm.predict_proba(X_train)[:,1]))\n",
    "print('ROC_AUC_SCORE TEST IS:  ', roc_auc_score(y_test, lgbm.predict_proba(X_test)[:,1]))"
   ]
  },
  {
   "cell_type": "code",
   "execution_count": null,
   "metadata": {
    "ExecuteTime": {
     "end_time": "2021-05-10T19:04:26.706455Z",
     "start_time": "2021-05-10T19:04:13.049Z"
    }
   },
   "outputs": [],
   "source": [
    "Richmond = dfs['Richmond']\n",
    "X = Richmond[['mintemp', 'maxtemp', 'rainfall', 'evaporation', 'sunshine', 'humidity9am', 'humidity3pm', 'pressure9am',\n",
    "       'pressure3pm', 'cloud9am', 'cloud3pm', 'raintoday', 'precipitation3pm', 'precipitation9am',\n",
    "       'wind_gustdir', 'wind_gustspeed', 'wind_dir9am', 'wind_dir3pm', 'wind_speed9am', 'wind_speed3pm']]\n",
    "y = Richmond['raintomorrow']\n",
    "#Split test and train\n",
    "X_train, X_test, y_train, y_test = train_test_split(X, y, test_size=0.4, random_state=42)\n",
    "#Normalize your values for the model\n",
    "scaler = StandardScaler()\n",
    "scaler.fit(X_train)\n",
    "X_train_std = scaler.transform(X_train)\n",
    "X_test_std = scaler.transform(X_test)\n",
    "#Apply your best model!\n",
    "lgbm = LGBMClassifier(max_depth=3, n_estimators=10, learning_rate=0.1, colsample_bytree=.7, n_jobs=-1)\n",
    "lgbm.fit(X_train, y_train)\n",
    "#SEE YOUR SCORE!\n",
    "print('ROC_AUC_SCORE TRAIN IS:  ', roc_auc_score(y_train, lgbm.predict_proba(X_train)[:,1]))\n",
    "print('ROC_AUC_SCORE TEST IS:  ', roc_auc_score(y_test, lgbm.predict_proba(X_test)[:,1]))"
   ]
  },
  {
   "cell_type": "code",
   "execution_count": null,
   "metadata": {
    "ExecuteTime": {
     "end_time": "2021-05-10T19:04:26.708451Z",
     "start_time": "2021-05-10T19:04:13.054Z"
    }
   },
   "outputs": [],
   "source": [
    "Sale = dfs['Sale']\n",
    "X = Sale[['mintemp', 'maxtemp', 'rainfall', 'evaporation', 'sunshine', 'humidity9am', 'humidity3pm', 'pressure9am',\n",
    "       'pressure3pm', 'cloud9am', 'cloud3pm', 'raintoday', 'precipitation3pm', 'precipitation9am',\n",
    "       'wind_gustdir', 'wind_gustspeed', 'wind_dir9am', 'wind_dir3pm', 'wind_speed9am', 'wind_speed3pm']]\n",
    "y = Sale['raintomorrow']\n",
    "#Split test and train\n",
    "X_train, X_test, y_train, y_test = train_test_split(X, y, test_size=0.2, random_state=42)\n",
    "#Normalize your values for the model\n",
    "scaler = StandardScaler()\n",
    "scaler.fit(X_train)\n",
    "X_train_std = scaler.transform(X_train)\n",
    "X_test_std = scaler.transform(X_test)\n",
    "#Apply your best model!\n",
    "lgbm = LGBMClassifier(max_depth=3, n_estimators=10, learning_rate=0.1, colsample_bytree=.7, n_jobs=-1)\n",
    "lgbm.fit(X_train, y_train)\n",
    "#SEE YOUR SCORE!\n",
    "print('ROC_AUC_SCORE TRAIN IS:  ', roc_auc_score(y_train, lgbm.predict_proba(X_train)[:,1]))\n",
    "print('ROC_AUC_SCORE TEST IS:  ', roc_auc_score(y_test, lgbm.predict_proba(X_test)[:,1]))"
   ]
  },
  {
   "cell_type": "code",
   "execution_count": null,
   "metadata": {
    "ExecuteTime": {
     "end_time": "2021-05-10T19:04:26.710445Z",
     "start_time": "2021-05-10T19:04:13.060Z"
    }
   },
   "outputs": [],
   "source": [
    "SalmonGums = dfs['SalmonGums']\n",
    "X = SalmonGums[['mintemp', 'maxtemp', 'rainfall', 'evaporation', 'sunshine', 'humidity9am', 'humidity3pm', 'pressure9am',\n",
    "       'pressure3pm', 'cloud9am', 'cloud3pm', 'raintoday', 'precipitation3pm', 'precipitation9am',\n",
    "       'wind_gustdir', 'wind_gustspeed', 'wind_dir9am', 'wind_dir3pm', 'wind_speed9am', 'wind_speed3pm']]\n",
    "y = SalmonGums['raintomorrow']\n",
    "#Split test and train\n",
    "X_train, X_test, y_train, y_test = train_test_split(X, y, test_size=0.2, random_state=42)\n",
    "#Normalize your values for the model\n",
    "scaler = StandardScaler()\n",
    "scaler.fit(X_train)\n",
    "X_train_std = scaler.transform(X_train)\n",
    "X_test_std = scaler.transform(X_test)\n",
    "#Apply your best model!\n",
    "lgbm = LGBMClassifier(max_depth=3, n_estimators=10, learning_rate=0.1, colsample_bytree=.7, n_jobs=-1)\n",
    "lgbm.fit(X_train, y_train)\n",
    "#SEE YOUR SCORE!\n",
    "print('ROC_AUC_SCORE TRAIN IS:  ', roc_auc_score(y_train, lgbm.predict_proba(X_train)[:,1]))\n",
    "print('ROC_AUC_SCORE TEST IS:  ', roc_auc_score(y_test, lgbm.predict_proba(X_test)[:,1]))"
   ]
  },
  {
   "cell_type": "code",
   "execution_count": null,
   "metadata": {
    "ExecuteTime": {
     "end_time": "2021-05-10T19:04:26.713437Z",
     "start_time": "2021-05-10T19:04:13.066Z"
    }
   },
   "outputs": [],
   "source": [
    "Sydney = dfs['Sydney']\n",
    "X = Sydney[['mintemp', 'maxtemp', 'rainfall', 'evaporation', 'sunshine', 'humidity9am', 'humidity3pm', 'pressure9am',\n",
    "       'pressure3pm', 'cloud9am', 'cloud3pm', 'raintoday', 'precipitation3pm', 'precipitation9am',\n",
    "       'wind_gustdir', 'wind_gustspeed', 'wind_dir9am', 'wind_dir3pm', 'wind_speed9am', 'wind_speed3pm']]\n",
    "y = Sydney['raintomorrow']\n",
    "#Split test and train\n",
    "X_train, X_test, y_train, y_test = train_test_split(X, y, test_size=0.2, random_state=42)\n",
    "#Normalize your values for the model\n",
    "scaler = StandardScaler()\n",
    "scaler.fit(X_train)\n",
    "X_train_std = scaler.transform(X_train)\n",
    "X_test_std = scaler.transform(X_test)\n",
    "#Apply your best model!\n",
    "lgbm = LGBMClassifier(max_depth=3, n_estimators=10, learning_rate=0.2, colsample_bytree=.7, n_jobs=-1)\n",
    "lgbm.fit(X_train, y_train)\n",
    "#SEE YOUR SCORE!\n",
    "print('ROC_AUC_SCORE TRAIN IS:  ', roc_auc_score(y_train, lgbm.predict_proba(X_train)[:,1]))\n",
    "print('ROC_AUC_SCORE TEST IS:  ', roc_auc_score(y_test, lgbm.predict_proba(X_test)[:,1]))"
   ]
  },
  {
   "cell_type": "code",
   "execution_count": null,
   "metadata": {
    "ExecuteTime": {
     "end_time": "2021-05-10T19:04:26.715466Z",
     "start_time": "2021-05-10T19:04:13.071Z"
    }
   },
   "outputs": [],
   "source": [
    "Sarimax_model = auto_arima(Sydney),\n",
    "                       start_P=1,\n",
    "                       start_q=1,\n",
    "                       max_p=3,\n",
    "                       max_q=3,\n",
    "                       m=12,\n",
    "                       seasonal=True,\n",
    "                       d=None,\n",
    "                       D=1,\n",
    "                       trace=True,\n",
    "                       error_action='ignore',\n",
    "                       suppress_warnings=True,\n",
    "                       stepwise=True)"
   ]
  },
  {
   "cell_type": "code",
   "execution_count": null,
   "metadata": {
    "ExecuteTime": {
     "end_time": "2021-05-10T19:04:26.718424Z",
     "start_time": "2021-05-10T19:04:13.077Z"
    }
   },
   "outputs": [],
   "source": [
    "SydneyAirport = dfs['SydneyAirport']\n",
    "X = SydneyAirport[['mintemp', 'maxtemp', 'rainfall', 'evaporation', 'sunshine', 'humidity9am', 'humidity3pm', 'pressure9am',\n",
    "       'pressure3pm', 'cloud9am', 'cloud3pm', 'raintoday', 'precipitation3pm', 'precipitation9am',\n",
    "       'wind_gustdir', 'wind_gustspeed', 'wind_dir9am', 'wind_dir3pm', 'wind_speed9am', 'wind_speed3pm']]\n",
    "y = SydneyAirport['raintomorrow']\n",
    "#Split test and train\n",
    "X_train, X_test, y_train, y_test = train_test_split(X, y, test_size=0.3, random_state=42)\n",
    "#Normalize your values for the model\n",
    "scaler = StandardScaler()\n",
    "scaler.fit(X_train)\n",
    "X_train_std = scaler.transform(X_train)\n",
    "X_test_std = scaler.transform(X_test)\n",
    "#Apply your best model!\n",
    "lgbm = LGBMClassifier(max_depth=3, n_estimators=10, learning_rate=0.1, colsample_bytree=.7, n_jobs=-1)\n",
    "lgbm.fit(X_train, y_train)\n",
    "#SEE YOUR SCORE!\n",
    "print('ROC_AUC_SCORE TRAIN IS:  ', roc_auc_score(y_train, lgbm.predict_proba(X_train)[:,1]))\n",
    "print('ROC_AUC_SCORE TEST IS:  ', roc_auc_score(y_test, lgbm.predict_proba(X_test)[:,1]))"
   ]
  },
  {
   "cell_type": "code",
   "execution_count": null,
   "metadata": {
    "ExecuteTime": {
     "end_time": "2021-05-10T19:04:26.719421Z",
     "start_time": "2021-05-10T19:04:13.084Z"
    }
   },
   "outputs": [],
   "source": [
    "Townsville = dfs['Townsville']\n",
    "X = Townsville[['mintemp', 'maxtemp', 'rainfall', 'evaporation', 'sunshine', 'humidity9am', 'humidity3pm', 'pressure9am',\n",
    "       'pressure3pm', 'cloud9am', 'cloud3pm', 'raintoday', 'precipitation3pm', 'precipitation9am',\n",
    "       'wind_gustdir', 'wind_gustspeed', 'wind_dir9am', 'wind_dir3pm', 'wind_speed9am', 'wind_speed3pm']]\n",
    "y = Townsville['raintomorrow']\n",
    "#Split test and train\n",
    "X_train, X_test, y_train, y_test = train_test_split(X, y, test_size=0.4, random_state=42)\n",
    "#Normalize your values for the model\n",
    "scaler = StandardScaler()\n",
    "scaler.fit(X_train)\n",
    "X_train_std = scaler.transform(X_train)\n",
    "X_test_std = scaler.transform(X_test)\n",
    "#Apply your best model!\n",
    "lgbm = LGBMClassifier(max_depth=3, n_estimators=5, learning_rate=0.1, colsample_bytree=.7, n_jobs=-1)\n",
    "lgbm.fit(X_train, y_train)\n",
    "#SEE YOUR SCORE!\n",
    "print('ROC_AUC_SCORE TRAIN IS:  ', roc_auc_score(y_train, lgbm.predict_proba(X_train)[:,1]))\n",
    "print('ROC_AUC_SCORE TEST IS:  ', roc_auc_score(y_test, lgbm.predict_proba(X_test)[:,1]))"
   ]
  },
  {
   "cell_type": "code",
   "execution_count": null,
   "metadata": {
    "ExecuteTime": {
     "end_time": "2021-05-10T19:04:26.720420Z",
     "start_time": "2021-05-10T19:04:13.088Z"
    }
   },
   "outputs": [],
   "source": [
    "Tuggeranong = dfs['Tuggeranong']\n",
    "X = Tuggeranong[['mintemp', 'maxtemp', 'rainfall', 'evaporation', 'sunshine', 'humidity9am', 'humidity3pm', 'pressure9am',\n",
    "       'pressure3pm', 'cloud9am', 'cloud3pm', 'raintoday', 'precipitation3pm', 'precipitation9am',\n",
    "       'wind_gustdir', 'wind_gustspeed', 'wind_dir9am', 'wind_dir3pm', 'wind_speed9am', 'wind_speed3pm']]\n",
    "y = Tuggeranong['raintomorrow']\n",
    "#Split test and train\n",
    "X_train, X_test, y_train, y_test = train_test_split(X, y, test_size=0.2, random_state=42)\n",
    "#Normalize your values for the model\n",
    "scaler = StandardScaler()\n",
    "scaler.fit(X_train)\n",
    "X_train_std = scaler.transform(X_train)\n",
    "X_test_std = scaler.transform(X_test)\n",
    "#Apply your best model!\n",
    "lgbm = LGBMClassifier(max_depth=3, n_estimators=10, learning_rate=0.1, colsample_bytree=.7, n_jobs=-1)\n",
    "lgbm.fit(X_train, y_train)\n",
    "#SEE YOUR SCORE!\n",
    "print('ROC_AUC_SCORE TRAIN IS:  ', roc_auc_score(y_train, lgbm.predict_proba(X_train)[:,1]))\n",
    "print('ROC_AUC_SCORE TEST IS:  ', roc_auc_score(y_test, lgbm.predict_proba(X_test)[:,1]))"
   ]
  },
  {
   "cell_type": "code",
   "execution_count": null,
   "metadata": {
    "ExecuteTime": {
     "end_time": "2021-05-10T19:04:26.721417Z",
     "start_time": "2021-05-10T19:04:13.093Z"
    }
   },
   "outputs": [],
   "source": [
    "Uluru = dfs['Uluru']\n",
    "X = Uluru[['mintemp', 'maxtemp', 'rainfall', 'evaporation', 'sunshine', 'humidity9am', 'humidity3pm', 'pressure9am',\n",
    "       'pressure3pm', 'cloud9am', 'cloud3pm', 'raintoday', 'precipitation3pm', 'precipitation9am',\n",
    "       'wind_gustdir', 'wind_gustspeed', 'wind_dir9am', 'wind_dir3pm', 'wind_speed9am', 'wind_speed3pm']]\n",
    "y = Uluru['raintomorrow']\n",
    "#Split test and train\n",
    "X_train, X_test, y_train, y_test = train_test_split(X, y, test_size=0.2, random_state=42)\n",
    "#Normalize your values for the model\n",
    "scaler = StandardScaler()\n",
    "scaler.fit(X_train)\n",
    "X_train_std = scaler.transform(X_train)\n",
    "X_test_std = scaler.transform(X_test)\n",
    "#Apply your best model!\n",
    "lgbm = LGBMClassifier(max_depth=3, n_estimators=10, learning_rate=0.1, colsample_bytree=.7, n_jobs=-1)\n",
    "lgbm.fit(X_train, y_train)\n",
    "#SEE YOUR SCORE!\n",
    "print('ROC_AUC_SCORE TRAIN IS:  ', roc_auc_score(y_train, lgbm.predict_proba(X_train)[:,1]))\n",
    "print('ROC_AUC_SCORE TEST IS:  ', roc_auc_score(y_test, lgbm.predict_proba(X_test)[:,1]))"
   ]
  },
  {
   "cell_type": "code",
   "execution_count": null,
   "metadata": {
    "ExecuteTime": {
     "end_time": "2021-05-10T19:04:26.724410Z",
     "start_time": "2021-05-10T19:04:13.097Z"
    }
   },
   "outputs": [],
   "source": [
    "WaggaWagga = dfs['WaggaWagga']\n",
    "X = WaggaWagga[['mintemp', 'maxtemp', 'rainfall', 'evaporation', 'sunshine', 'humidity9am', 'humidity3pm', 'pressure9am',\n",
    "       'pressure3pm', 'cloud9am', 'cloud3pm', 'raintoday', 'precipitation3pm', 'precipitation9am',\n",
    "       'wind_gustdir', 'wind_gustspeed', 'wind_dir9am', 'wind_dir3pm', 'wind_speed9am', 'wind_speed3pm']]\n",
    "y = WaggaWagga['raintomorrow']\n",
    "#Split test and train\n",
    "X_train, X_test, y_train, y_test = train_test_split(X, y, test_size=0.2, random_state=42)\n",
    "#Normalize your values for the model\n",
    "scaler = StandardScaler()\n",
    "scaler.fit(X_train)\n",
    "X_train_std = scaler.transform(X_train)\n",
    "X_test_std = scaler.transform(X_test)\n",
    "#Apply your best model!\n",
    "lgbm = LGBMClassifier(max_depth=3, n_estimators=10, learning_rate=0.1, colsample_bytree=.7, n_jobs=-1)\n",
    "lgbm.fit(X_train, y_train)\n",
    "#SEE YOUR SCORE!\n",
    "print('ROC_AUC_SCORE TRAIN IS:  ', roc_auc_score(y_train, lgbm.predict_proba(X_train)[:,1]))\n",
    "print('ROC_AUC_SCORE TEST IS:  ', roc_auc_score(y_test, lgbm.predict_proba(X_test)[:,1]))"
   ]
  },
  {
   "cell_type": "code",
   "execution_count": null,
   "metadata": {
    "ExecuteTime": {
     "end_time": "2021-05-10T19:04:26.725405Z",
     "start_time": "2021-05-10T19:04:13.103Z"
    }
   },
   "outputs": [],
   "source": [
    "Walpole = dfs['Walpole']\n",
    "X = Walpole[['mintemp', 'maxtemp', 'rainfall', 'evaporation', 'sunshine', 'humidity9am', 'humidity3pm', 'pressure9am',\n",
    "       'pressure3pm', 'cloud9am', 'cloud3pm', 'raintoday', 'precipitation3pm', 'precipitation9am',\n",
    "       'wind_gustdir', 'wind_gustspeed', 'wind_dir9am', 'wind_dir3pm', 'wind_speed9am', 'wind_speed3pm']]\n",
    "y = Walpole['raintomorrow']\n",
    "#Split test and train\n",
    "X_train, X_test, y_train, y_test = train_test_split(X, y, test_size=0.3, random_state=42)\n",
    "#Normalize your values for the model\n",
    "scaler = StandardScaler()\n",
    "scaler.fit(X_train)\n",
    "X_train_std = scaler.transform(X_train)\n",
    "X_test_std = scaler.transform(X_test)\n",
    "#Apply your best model!\n",
    "lgbm = LGBMClassifier(max_depth=3, n_estimators=10, learning_rate=0.1, colsample_bytree=.7, n_jobs=-1)\n",
    "lgbm.fit(X_train, y_train)\n",
    "#SEE YOUR SCORE!\n",
    "print('ROC_AUC_SCORE TRAIN IS:  ', roc_auc_score(y_train, lgbm.predict_proba(X_train)[:,1]))\n",
    "print('ROC_AUC_SCORE TEST IS:  ', roc_auc_score(y_test, lgbm.predict_proba(X_test)[:,1]))"
   ]
  },
  {
   "cell_type": "code",
   "execution_count": null,
   "metadata": {
    "ExecuteTime": {
     "end_time": "2021-05-10T19:04:26.726402Z",
     "start_time": "2021-05-10T19:04:13.110Z"
    }
   },
   "outputs": [],
   "source": [
    "Watsonia = dfs['Watsonia']\n",
    "X = Watsonia[['mintemp', 'maxtemp', 'rainfall', 'evaporation', 'sunshine', 'humidity9am', 'humidity3pm', 'pressure9am',\n",
    "       'pressure3pm', 'cloud9am', 'cloud3pm', 'raintoday', 'precipitation3pm', 'precipitation9am',\n",
    "       'wind_gustdir', 'wind_gustspeed', 'wind_dir9am', 'wind_dir3pm', 'wind_speed9am', 'wind_speed3pm']]\n",
    "y = Watsonia['raintomorrow']\n",
    "#Split test and train\n",
    "X_train, X_test, y_train, y_test = train_test_split(X, y, test_size=0.3, random_state=42)\n",
    "#Normalize your values for the model\n",
    "scaler = StandardScaler()\n",
    "scaler.fit(X_train)\n",
    "X_train_std = scaler.transform(X_train)\n",
    "X_test_std = scaler.transform(X_test)\n",
    "#Apply your best model!\n",
    "lgbm = LGBMClassifier(max_depth=3, n_estimators=10, learning_rate=0.1, colsample_bytree=.7, n_jobs=-1)\n",
    "lgbm.fit(X_train, y_train)\n",
    "#SEE YOUR SCORE!\n",
    "print('ROC_AUC_SCORE TRAIN IS:  ', roc_auc_score(y_train, lgbm.predict_proba(X_train)[:,1]))\n",
    "print('ROC_AUC_SCORE TEST IS:  ', roc_auc_score(y_test, lgbm.predict_proba(X_test)[:,1]))"
   ]
  },
  {
   "cell_type": "code",
   "execution_count": null,
   "metadata": {
    "ExecuteTime": {
     "end_time": "2021-05-10T19:04:26.727400Z",
     "start_time": "2021-05-10T19:04:13.116Z"
    }
   },
   "outputs": [],
   "source": [
    "Williamtow = dfs['Williamtown']\n",
    "X = Williamtow[['mintemp', 'maxtemp', 'rainfall', 'evaporation', 'sunshine', 'humidity9am', 'humidity3pm', 'pressure9am',\n",
    "       'pressure3pm', 'cloud9am', 'cloud3pm', 'raintoday', 'precipitation3pm', 'precipitation9am',\n",
    "       'wind_gustdir', 'wind_gustspeed', 'wind_dir9am', 'wind_dir3pm', 'wind_speed9am', 'wind_speed3pm']]\n",
    "y = Williamtow['raintomorrow']\n",
    "#Split test and train\n",
    "X_train, X_test, y_train, y_test = train_test_split(X, y, test_size=0.4, random_state=42)\n",
    "#Normalize your values for the model\n",
    "scaler = StandardScaler()\n",
    "scaler.fit(X_train)\n",
    "X_train_std = scaler.transform(X_train)\n",
    "X_test_std = scaler.transform(X_test)\n",
    "#Apply your best model!\n",
    "lgbm = LGBMClassifier(max_depth=3, n_estimators=10, learning_rate=0.1, colsample_bytree=.7, n_jobs=-1)\n",
    "lgbm.fit(X_train, y_train)\n",
    "#SEE YOUR SCORE!\n",
    "print('ROC_AUC_SCORE TRAIN IS:  ', roc_auc_score(y_train, lgbm.predict_proba(X_train)[:,1]))\n",
    "print('ROC_AUC_SCORE TEST IS:  ', roc_auc_score(y_test, lgbm.predict_proba(X_test)[:,1]))"
   ]
  },
  {
   "cell_type": "code",
   "execution_count": null,
   "metadata": {
    "ExecuteTime": {
     "end_time": "2021-05-10T19:04:26.729395Z",
     "start_time": "2021-05-10T19:04:13.121Z"
    }
   },
   "outputs": [],
   "source": [
    "Witchcliffe = dfs['Witchcliffe']\n",
    "X = Witchcliffe[['mintemp', 'maxtemp', 'rainfall', 'evaporation', 'sunshine', 'humidity9am', 'humidity3pm', 'pressure9am',\n",
    "       'pressure3pm', 'cloud9am', 'cloud3pm', 'raintoday', 'precipitation3pm', 'precipitation9am',\n",
    "       'wind_gustdir', 'wind_gustspeed', 'wind_dir9am', 'wind_dir3pm', 'wind_speed9am', 'wind_speed3pm']]\n",
    "y = Witchcliffe['raintomorrow']\n",
    "#Split test and train\n",
    "X_train, X_test, y_train, y_test = train_test_split(X, y, test_size=0.2, random_state=42)\n",
    "#Normalize your values for the model\n",
    "scaler = StandardScaler()\n",
    "scaler.fit(X_train)\n",
    "X_train_std = scaler.transform(X_train)\n",
    "X_test_std = scaler.transform(X_test)\n",
    "#Apply your best model!\n",
    "lgbm = LGBMClassifier(max_depth=3, n_estimators=10, learning_rate=0.1, colsample_bytree=.7, n_jobs=-1)\n",
    "lgbm.fit(X_train, y_train)\n",
    "#SEE YOUR SCORE!\n",
    "print('ROC_AUC_SCORE TRAIN IS:  ', roc_auc_score(y_train, lgbm.predict_proba(X_train)[:,1]))\n",
    "print('ROC_AUC_SCORE TEST IS:  ', roc_auc_score(y_test, lgbm.predict_proba(X_test)[:,1]))"
   ]
  },
  {
   "cell_type": "code",
   "execution_count": null,
   "metadata": {
    "ExecuteTime": {
     "end_time": "2021-05-10T19:04:26.734384Z",
     "start_time": "2021-05-10T19:04:13.125Z"
    }
   },
   "outputs": [],
   "source": [
    "Wollongong = dfs['Wollongong']\n",
    "X = Wollongong[['mintemp', 'maxtemp', 'rainfall', 'evaporation', 'sunshine', 'humidity9am', 'humidity3pm', 'pressure9am',\n",
    "       'pressure3pm', 'cloud9am', 'cloud3pm', 'raintoday', 'precipitation3pm', 'precipitation9am',\n",
    "       'wind_gustdir', 'wind_gustspeed', 'wind_dir9am', 'wind_dir3pm', 'wind_speed9am', 'wind_speed3pm']]\n",
    "y = Wollongong['raintomorrow']\n",
    "#Split test and train\n",
    "X_train, X_test, y_train, y_test = train_test_split(X, y, test_size=0.2, random_state=42)\n",
    "#Normalize your values for the model\n",
    "scaler = StandardScaler()\n",
    "scaler.fit(X_train)\n",
    "X_train_std = scaler.transform(X_train)\n",
    "X_test_std = scaler.transform(X_test)\n",
    "#Apply your best model!\n",
    "lgbm = LGBMClassifier(max_depth=3, n_estimators=10, learning_rate=0.1, colsample_bytree=.7, n_jobs=-1)\n",
    "lgbm.fit(X_train, y_train)\n",
    "#SEE YOUR SCORE!\n",
    "print('ROC_AUC_SCORE TRAIN IS:  ', roc_auc_score(y_train, lgbm.predict_proba(X_train)[:,1]))\n",
    "print('ROC_AUC_SCORE TEST IS:  ', roc_auc_score(y_test, lgbm.predict_proba(X_test)[:,1]))"
   ]
  },
  {
   "cell_type": "code",
   "execution_count": null,
   "metadata": {
    "ExecuteTime": {
     "end_time": "2021-05-10T19:04:26.736377Z",
     "start_time": "2021-05-10T19:04:13.130Z"
    }
   },
   "outputs": [],
   "source": [
    "Woomera = dfs['Woomera']\n",
    "X = Woomera[['mintemp', 'maxtemp', 'rainfall', 'evaporation', 'sunshine', 'humidity9am', 'humidity3pm', 'pressure9am',\n",
    "       'pressure3pm', 'cloud9am', 'cloud3pm', 'raintoday', 'precipitation3pm', 'precipitation9am',\n",
    "       'wind_gustdir', 'wind_gustspeed', 'wind_dir9am', 'wind_dir3pm', 'wind_speed9am', 'wind_speed3pm']]\n",
    "y = Woomera['raintomorrow']\n",
    "#Split test and train\n",
    "X_train, X_test, y_train, y_test = train_test_split(X, y, test_size=0.2, random_state=42)\n",
    "#Normalize your values for the model\n",
    "scaler = StandardScaler()\n",
    "scaler.fit(X_train)\n",
    "X_train_std = scaler.transform(X_train)\n",
    "X_test_std = scaler.transform(X_test)\n",
    "#Apply your best model!\n",
    "lgbm = LGBMClassifier(max_depth=3, n_estimators=10, learning_rate=0.1, colsample_bytree=.7, n_jobs=-1)\n",
    "lgbm.fit(X_train, y_train)\n",
    "#SEE YOUR SCORE!\n",
    "print('ROC_AUC_SCORE TRAIN IS:  ', roc_auc_score(y_train, lgbm.predict_proba(X_train)[:,1]))\n",
    "print('ROC_AUC_SCORE TEST IS:  ', roc_auc_score(y_test, lgbm.predict_proba(X_test)[:,1]))"
   ]
  },
  {
   "cell_type": "markdown",
   "metadata": {},
   "source": [
    "# More Complex Historical Series Models"
   ]
  },
  {
   "cell_type": "markdown",
   "metadata": {
    "heading_collapsed": true
   },
   "source": [
    "## Other simples..."
   ]
  },
  {
   "cell_type": "code",
   "execution_count": null,
   "metadata": {
    "ExecuteTime": {
     "end_time": "2021-05-10T19:04:26.738371Z",
     "start_time": "2021-05-10T19:04:13.136Z"
    },
    "hidden": true
   },
   "outputs": [],
   "source": [
    "# line plot of dataset\n",
    "rain_aus['amntraintmrw'].plot()\n",
    "plt.show()\n",
    "\n",
    "# line plot of dataset\n",
    "rain_merge['amntraintmrw'].plot()\n",
    "plt.show()\n",
    "\n",
    "# line plot of dataset\n",
    "seasoned_rain['amntraintmrw'].plot()\n",
    "plt.show()"
   ]
  },
  {
   "cell_type": "code",
   "execution_count": null,
   "metadata": {
    "ExecuteTime": {
     "end_time": "2021-05-10T19:04:26.740364Z",
     "start_time": "2021-05-10T19:04:13.142Z"
    },
    "hidden": true
   },
   "outputs": [],
   "source": [
    "from pandas import read_csv\n",
    "from sklearn.metrics import mean_squared_error\n",
    "from math import sqrt\n",
    "from numpy import mean\n",
    "from matplotlib import pyplot\n",
    "\n",
    "# prepare data\n",
    "X = rain_merge.values\n",
    "train, test = X[0:-(2*365)], X[-(2*365):]\n",
    "# evaluate mean of different number of years\n",
    "years = [2009, 2010, 2012, 2013, 2014, 2015, 2016, 2017]\n",
    "scores = list()\n",
    "for year in years:\n",
    "    # walk-forward validation\n",
    "    history = [x for x in train]\n",
    "    predictions = list()\n",
    "    for i in range(len(test)):\n",
    "        # collect obs\n",
    "        obs = list()\n",
    "        for y in range(1, year+1):\n",
    "            obs.append(history[-(y*365)])\n",
    "        # make prediction\n",
    "        yhat = mean(obs)\n",
    "        predictions.append(yhat)\n",
    "        # observation\n",
    "        history.append(test[i])\n",
    "        # report performance\n",
    "        rmse = sqrt(mean_squared_error(test, predictions))\n",
    "        scores.append(rmse)\n",
    "        print('Years=%d, RMSE: %.3f' % (year, rmse))\n",
    "pyplot.plot(years, scores)\n",
    "pyplot.show()"
   ]
  },
  {
   "cell_type": "markdown",
   "metadata": {
    "heading_collapsed": true
   },
   "source": [
    "## Prophet"
   ]
  },
  {
   "cell_type": "code",
   "execution_count": null,
   "metadata": {
    "ExecuteTime": {
     "end_time": "2021-05-10T19:04:26.742393Z",
     "start_time": "2021-05-10T19:04:13.150Z"
    },
    "hidden": true
   },
   "outputs": [],
   "source": [
    "!pip install fbprophet --user"
   ]
  },
  {
   "cell_type": "markdown",
   "metadata": {},
   "source": [
    "## Sarimax"
   ]
  },
  {
   "cell_type": "code",
   "execution_count": null,
   "metadata": {
    "ExecuteTime": {
     "end_time": "2021-05-10T19:04:26.743358Z",
     "start_time": "2021-05-10T19:04:13.155Z"
    }
   },
   "outputs": [],
   "source": [
    "from statsmodels.tsa.statespace.sarimax import SARIMAX\n",
    "from random import random\n",
    "# contrived dataset\n",
    "#data = [x + random() for x in range(1, 100)]\n",
    "# fit model\n",
    "model = SARIMAX(rain_aus, order=(1, 1, 1), seasonal_order=(0, 0, 0, 0))\n",
    "model_fit = model.fit(disp=False)\n",
    "# make prediction\n",
    "yhat = model_fit.predict(len(rain_aus), len(rain_aus))\n",
    "print(yhat)"
   ]
  },
  {
   "cell_type": "code",
   "execution_count": null,
   "metadata": {
    "ExecuteTime": {
     "end_time": "2021-05-10T19:04:26.745361Z",
     "start_time": "2021-05-10T19:04:13.159Z"
    }
   },
   "outputs": [],
   "source": [
    "from statsmodels.tsa.seasonal import seasonal_decompose\n",
    "from statsmodels.tsa.stattools import adfuller\n",
    "from statsmodels.graphics.tsaplots import plot_acf, plot_pacf\n",
    "from matplotlib.pylab import rcParams\n",
    "from pmdarima import auto_arima\n",
    "from statsmodels.tsa.arima_model import ARIMA,ARIMAResults,ARMA,ARMAResults\n",
    "import statsmodels.api as sm\n",
    "from statsmodels.tsa.statespace.sarimax import SARIMAX\n",
    "\n",
    "Sarimax_model = auto_arima(seasoned_rain['raintomorrow'],\n",
    "                       start_P=1,\n",
    "                       start_q=1,\n",
    "                       max_p=3,\n",
    "                       max_q=3,\n",
    "                       m=12,\n",
    "                       seasonal=True,\n",
    "                       d=None,\n",
    "                       D=1,\n",
    "                       trace=True,\n",
    "                       error_action='ignore',\n",
    "                       suppress_warnings=True,\n",
    "                       stepwise=True)\n",
    "Sarimax_model.summary()"
   ]
  },
  {
   "cell_type": "code",
   "execution_count": null,
   "metadata": {
    "ExecuteTime": {
     "end_time": "2021-05-10T19:04:26.749382Z",
     "start_time": "2021-05-10T19:04:13.164Z"
    }
   },
   "outputs": [],
   "source": [
    "# SARIMAX example\n",
    "from statsmodels.tsa.statespace.sarimax import SARIMAX\n",
    "from random import random\n",
    "# contrived dataset\n",
    "#rain_aus = [x + random() for x in range(1, 100)]\n",
    "#wind = [x + random() for x in range(101, 200)]\n",
    "# fit model\n",
    "model = SARIMAX(rain_aus, exog=wind, order=(2,0,1), seasonal_order=(0, 0, 0, 0))\n",
    "model_fit = model.fit(disp=False)\n",
    "# make prediction\n",
    "exog2 = [200 + random()]\n",
    "yhat = model_fit.predict(len(rain_aus), len(rain_aus), exog=[exog2])\n",
    "print(yhat)"
   ]
  },
  {
   "cell_type": "code",
   "execution_count": null,
   "metadata": {
    "ExecuteTime": {
     "end_time": "2021-05-10T19:04:26.751338Z",
     "start_time": "2021-05-10T19:04:13.169Z"
    }
   },
   "outputs": [],
   "source": [
    "# SARIMAX example\n",
    "from statsmodels.tsa.statespace.sarimax import SARIMAX\n",
    "from random import random\n",
    "# contrived dataset\n",
    "#rain_aus = [x + random() for x in range(1, 100)]\n",
    "#wind = [x + random() for x in range(101, 200)]\n",
    "# fit model\n",
    "model = SARIMAX(rain_aus, exog=wind, order=(2,0,1))\n",
    "model_fit = model.fit(disp=False)\n",
    "# make prediction\n",
    "exog2 = [200 + random()]\n",
    "yhat = model_fit.predict(len(rain_aus), len(rain_aus), exog=[exog2])\n",
    "print(yhat)"
   ]
  },
  {
   "cell_type": "markdown",
   "metadata": {},
   "source": [
    "# If you want to see tables by each city"
   ]
  },
  {
   "cell_type": "code",
   "execution_count": null,
   "metadata": {
    "ExecuteTime": {
     "end_time": "2021-05-10T19:04:26.753365Z",
     "start_time": "2021-05-10T19:04:13.176Z"
    }
   },
   "outputs": [],
   "source": [
    "Albany = dfs['Albany']\n",
    "Albury =  dfs['Albury']\n",
    "AliceSprings = dfs['AliceSprings']\n",
    "BadgerysCreek = dfs['BadgerysCreek']\n",
    "Ballarat = dfs['Ballarat']\n",
    "Bendigo = dfs['Bendigo']\n",
    "Brisbane = dfs['Brisbane']\n",
    "Cairns = dfs['Cairns']\n",
    "Canberra = dfs['Canberra']\n",
    "Cobar = dfs['Cobar']\n",
    "CoffsHarbour = dfs['CoffsHarbour']\n",
    "Dartmoor = dfs['Dartmoor']\n",
    "Darwin = dfs['Darwin']\n",
    "GoldCoast = dfs['GoldCoast']\n",
    "Hobart = dfs['Hobart']\n",
    "Katherine = dfs['Katherine']\n",
    "Launceston = dfs['Launceston']\n",
    "Melbourne = dfs['Melbourne']\n",
    "MelbourneAirport = dfs['MelbourneAirport']\n",
    "Mildura = dfs['Mildura']\n",
    "More = dfs['Moree']\n",
    "MountGambier = dfs['MountGambier']\n",
    "MountGinini = dfs['MountGinini']\n",
    "Newcastle = dfs['Newcastle']\n",
    "Nhil = dfs['Nhil']\n",
    "NorahHead = dfs['NorahHead']\n",
    "NorfolkIsland = dfs['NorfolkIsland']\n",
    "Nuriootpa = dfs['Nuriootpa']\n",
    "PearceRAAF = dfs['PearceRAAF']\n",
    "Penrith = dfs['Penrith']\n",
    "Perth = dfs['Perth'\n",
    "PerthAirport = dfs['PerthAirport']\n",
    "Portland = dfs['Portland']\n",
    "Richmond = dfs['Richmond']\n",
    "Sale = dfs['Sale']\n",
    "SalmonGums = dfs['SalmonGums']\n",
    "Sydney = dfs['Sydney']\n",
    "SydneyAirport = dfs['SydneyAirport']\n",
    "Townsville = dfs['Townsville']\n",
    "Tuggeranong = dfs['Tuggeranong']\n",
    "Uluru = dfs['Uluru']\n",
    "WaggaWagga = dfs['WaggaWagga']\n",
    "Walpole = dfs['Walpole']\n",
    "Watsonia = dfs['Watsonia']\n",
    "Williamtow = dfs['Williamtown']\n",
    "Witchcliffe = dfs['Witchcliffe']\n",
    "Wollongong = dfs['Wollongong']"
   ]
  },
  {
   "cell_type": "code",
   "execution_count": null,
   "metadata": {
    "ExecuteTime": {
     "end_time": "2021-05-10T19:04:26.754327Z",
     "start_time": "2021-05-10T19:04:13.182Z"
    }
   },
   "outputs": [],
   "source": [
    "#Else\n",
    "\n",
    "#for i, g in seasoned_rain.groupby('location'):\n",
    "#    globals()['seasoned_rain_city_' + str(i)] =  g\n",
    "\n",
    "# sort the dataframe\n",
    "#seasoned_rain.sort_values(by='location', axis=1, inplace=True)\n",
    "\n",
    "# set the index to be this and don't drop\n",
    "#seasoned_rain.set_index(keys=['location'], drop=False,inplace=True)\n",
    "\n",
    "# get a list of names\n",
    "#locations = seasoned_rain['location'].unique().tolist()\n",
    "#locations\n",
    "# now we can perform a lookup on a 'view' of the dataframe\n",
    "#joe = df.loc[df.name=='joe']\n",
    "\n",
    "# now you can query all 'joes'"
   ]
  }
 ],
 "metadata": {
  "kernelspec": {
   "display_name": "Python 3",
   "language": "python",
   "name": "python3"
  },
  "language_info": {
   "codemirror_mode": {
    "name": "ipython",
    "version": 3
   },
   "file_extension": ".py",
   "mimetype": "text/x-python",
   "name": "python",
   "nbconvert_exporter": "python",
   "pygments_lexer": "ipython3",
   "version": "3.8.5"
  },
  "toc": {
   "base_numbering": 1,
   "nav_menu": {},
   "number_sections": true,
   "sideBar": true,
   "skip_h1_title": false,
   "title_cell": "Table of Contents",
   "title_sidebar": "Contents",
   "toc_cell": false,
   "toc_position": {},
   "toc_section_display": true,
   "toc_window_display": false
  },
  "varInspector": {
   "cols": {
    "lenName": 16,
    "lenType": 16,
    "lenVar": 40
   },
   "kernels_config": {
    "python": {
     "delete_cmd_postfix": "",
     "delete_cmd_prefix": "del ",
     "library": "var_list.py",
     "varRefreshCmd": "print(var_dic_list())"
    },
    "r": {
     "delete_cmd_postfix": ") ",
     "delete_cmd_prefix": "rm(",
     "library": "var_list.r",
     "varRefreshCmd": "cat(var_dic_list()) "
    }
   },
   "types_to_exclude": [
    "module",
    "function",
    "builtin_function_or_method",
    "instance",
    "_Feature"
   ],
   "window_display": false
  }
 },
 "nbformat": 4,
 "nbformat_minor": 4
}
